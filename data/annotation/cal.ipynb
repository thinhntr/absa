{
 "cells": [
  {
   "cell_type": "code",
   "execution_count": 19,
   "metadata": {},
   "outputs": [],
   "source": [
    "import os\n",
    "\n",
    "keys = {\n",
    "    'RESTAURANT#GENERAL',            \n",
    "    'RESTAURANT#PRICES',              \n",
    "    'RESTAURANT#MISCELLANEOUS',       \n",
    "    \n",
    "    'FOOD#QUALITY',                   \n",
    "    'FOOD#STYLE&OPTIONS',             \n",
    "    'FOOD#PRICES',                    \n",
    "\n",
    "    'DRINKS#QUALITY',                 \n",
    "    'DRINKS#STYLE&OPTIONS',           \n",
    "    'DRINKS#PRICES',\n",
    "\n",
    "    'SERVICE#GENERAL',                \n",
    "    'AMBIENCE#GENERAL',\n",
    "    'LOCATION#GENERAL'\n",
    "}\n",
    "values = {\n",
    "    'positive',\n",
    "    'negative',\n",
    "    'neutral'\n",
    "}\n",
    "    \n",
    "def format_str(text): # format lại list\n",
    "    text = text.replace('}','')\n",
    "    text = text.replace(',','')\n",
    "    text = text.replace(' ','')\n",
    "    lst = text.split('{')\n",
    "    lst = sorted(lst)\n",
    "    lst.remove('')\n",
    "    return lst\n",
    "\n",
    "def get_info(info_file): # đọc thông tin từ file -> list\n",
    "    lst = []\n",
    "    for value in info_file:\n",
    "        if value[0] != '#':\n",
    "            info = value.replace('\\n','')\n",
    "            if  info != '':\n",
    "                lst.append(format_str(info))        \n",
    "    return lst\n",
    "\n",
    "def get_file(id_path): # đọc file từ path với id\n",
    "    annota_S = 'annota_Son.txt'\n",
    "    annota_T = 'annota_Thinh.txt'\n",
    "    try:\n",
    "        with open (os.path.join (id_path,annota_S)) as f:\n",
    "            info_S = f.readlines()\n",
    "        with open (os.path.join (id_path,annota_T)) as f:\n",
    "            info_T = f.readlines()\n",
    "    except:\n",
    "        raise Exception('Error of local path')\n",
    "\n",
    "    lst_S = get_info(info_S)\n",
    "    lst_T = get_info(info_T)\n",
    "    return lst_S, lst_T\n",
    "\n",
    "def calculate(list_1, list_2): #tính toán matching giữa 2 list\n",
    "    if len(list_1) != len(list_2):\n",
    "        raise Exception(\"Don't matching data of 2 list\")\n",
    "    else:\n",
    "        num_file = len(list_1)\n",
    "        num_attr = 0\n",
    "        matching_attr = 0\n",
    "    a = []\n",
    "    b = []\n",
    "    for i in range(num_file):\n",
    "        S = set(list_1[i])\n",
    "        T = set(list_2[i])\n",
    "        num_attr += len(S | T)\n",
    "        matching_attr += (len(S & T))\n",
    "    precision = round(matching_attr / num_attr *100, 2)\n",
    "    return precision, matching_attr, num_attr"
   ]
  },
  {
   "cell_type": "code",
   "execution_count": 20,
   "metadata": {},
   "outputs": [],
   "source": [
    "def show_result(id_path):\n",
    "    S,T = get_file(id_path)\n",
    "    precision, matching_attr, num_attr = calculate(S, T)\n",
    "    print(f'Tỉ lệ matching: {matching_attr} / {num_attr}')\n",
    "    print(f'Độ đồng thuận: {precision}%')"
   ]
  },
  {
   "cell_type": "code",
   "execution_count": 21,
   "metadata": {},
   "outputs": [
    {
     "name": "stdout",
     "output_type": "stream",
     "text": [
      "Tỉ lệ matching: 10 / 26\n",
      "Độ đồng thuận: 38.46%\n"
     ]
    }
   ],
   "source": [
    "show_result('01_05')"
   ]
  },
  {
   "cell_type": "code",
   "execution_count": 22,
   "metadata": {},
   "outputs": [
    {
     "name": "stdout",
     "output_type": "stream",
     "text": [
      "Tỉ lệ matching: 9 / 20\n",
      "Độ đồng thuận: 45.0%\n"
     ]
    }
   ],
   "source": [
    "show_result('06_10')"
   ]
  }
 ],
 "metadata": {
  "interpreter": {
   "hash": "1b620f4e069fc391bf838ac3714d378ab4f9a6212a250a0c4b6af69db2c82093"
  },
  "kernelspec": {
   "display_name": "Python 3.8.8 64-bit ('base': conda)",
   "name": "python3"
  },
  "language_info": {
   "codemirror_mode": {
    "name": "ipython",
    "version": 3
   },
   "file_extension": ".py",
   "mimetype": "text/x-python",
   "name": "python",
   "nbconvert_exporter": "python",
   "pygments_lexer": "ipython3",
   "version": "3.8.8"
  },
  "orig_nbformat": 4
 },
 "nbformat": 4,
 "nbformat_minor": 2
}
