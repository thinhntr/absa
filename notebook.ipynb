{
  "cells": [
    {
      "cell_type": "code",
      "execution_count": null,
      "metadata": {
        "colab": {
          "base_uri": "https://localhost:8080/"
        },
        "id": "ZwKIN6EZ-eh0",
        "outputId": "ac8279a7-0bc0-4881-c0ab-2b18102b6f3a"
      },
      "outputs": [],
      "source": [
        "# !pip install -qr colab_requirements.txt"
      ]
    },
    {
      "cell_type": "markdown",
      "metadata": {
        "cell_id": "00001-73dc905a-f8e8-4f5a-b542-50a626b67551",
        "deepnote_cell_type": "markdown",
        "id": "NZ2MidPrPrae",
        "tags": []
      },
      "source": [
        "# Read data"
      ]
    },
    {
      "cell_type": "code",
      "execution_count": 1,
      "metadata": {
        "cell_id": "00000-d1f2d812-aabe-4dfd-9477-93be642302e1",
        "colab": {
          "base_uri": "https://localhost:8080/"
        },
        "deepnote_cell_type": "code",
        "deepnote_to_be_reexecuted": false,
        "execution_millis": 304,
        "execution_start": 1636288255576,
        "id": "gZj_jnCGPran",
        "outputId": "4dac58c7-2766-4045-822b-a4a0e1503da9",
        "source_hash": "1fdd19ce",
        "tags": []
      },
      "outputs": [
        {
          "name": "stdout",
          "output_type": "stream",
          "text": [
            "train.csv X.shape: (2961,) y.shape: (2961, 12)\n",
            "dev.csv X.shape: (1290,) y.shape: (1290, 12)\n",
            "test.csv X.shape: (500,) y.shape: (500, 12)\n"
          ]
        }
      ],
      "source": [
        "import numpy as np\n",
        "import pandas as pd\n",
        "from pathlib import Path\n",
        "\n",
        "\n",
        "data_dir  = Path('data/csv')\n",
        "\n",
        "train_fp  = data_dir/'train.csv'\n",
        "dev_fp    = data_dir/'dev.csv'\n",
        "test_fp   = data_dir/'test.csv'\n",
        "\n",
        "\n",
        "def read_csv(csv_path):\n",
        "    assert csv_path.is_file()\n",
        "    df = pd.read_csv(csv_path)\n",
        "\n",
        "    X = df.pop('review')\n",
        "    y = df.replace({\n",
        "        np.nan: 0, \n",
        "        'negative': 1, \n",
        "        'neutral': 2, \n",
        "        'positive': 3}) \\\n",
        "        .astype(np.uint8)\n",
        "\n",
        "    print(csv_path.name, 'X.shape:', X.shape, 'y.shape:', y.shape)\n",
        "    return X, y\n",
        "\n",
        "X_train, y_train = read_csv(train_fp)\n",
        "X_dev, y_dev = read_csv(dev_fp)\n",
        "X_test, y_test = read_csv(test_fp)"
      ]
    },
    {
      "cell_type": "markdown",
      "metadata": {
        "cell_id": "00003-b0c4c0b2-689b-4f0b-9bb7-f78acf400fba",
        "deepnote_cell_type": "markdown",
        "id": "gtxqTCE_Prat",
        "tags": []
      },
      "source": [
        "\n",
        "# EDA"
      ]
    },
    {
      "cell_type": "code",
      "execution_count": 2,
      "metadata": {
        "cell_id": "00005-65a897cf-2617-4630-b025-b22821ea9438",
        "colab": {
          "base_uri": "https://localhost:8080/",
          "height": 450
        },
        "deepnote_cell_type": "code",
        "deepnote_to_be_reexecuted": false,
        "execution_millis": 2474,
        "execution_start": 1636288341908,
        "id": "QLheW64pPrav",
        "outputId": "313d0d9b-4568-4b60-b7ea-c6b906f2f21a",
        "source_hash": "f8214cc3",
        "tags": []
      },
      "outputs": [
        {
          "name": "stdout",
          "output_type": "stream",
          "text": [
            "Số nhãn từng lớp trong tập train\n"
          ]
        },
        {
          "data": {
            "text/plain": [
              "<AxesSubplot:>"
            ]
          },
          "execution_count": 2,
          "metadata": {},
          "output_type": "execute_result"
        },
        {
          "data": {
            "image/png": "[encoded data removed]",
            "text/plain": [
              "<Figure size 432x288 with 1 Axes>"
            ]
          },
          "metadata": {
            "needs_background": "light"
          },
          "output_type": "display_data"
        }
      ],
      "source": [
        "print('Số nhãn từng lớp trong tập train')\n",
        "count_aspects = (~~y_train).sum(axis=0).sort_values(ascending=False)\n",
        "count_aspects.plot.bar()"
      ]
    },
    {
      "cell_type": "markdown",
      "metadata": {
        "cell_id": "00006-8a7653d4-a0fe-4a4d-87d9-2d9820f5f4b7",
        "deepnote_cell_type": "markdown",
        "id": "DOGhg4iUPraw",
        "tags": []
      },
      "source": [
        "# Tiền xử lí dữ liệu"
      ]
    },
    {
      "cell_type": "code",
      "execution_count": 44,
      "metadata": {
        "cell_id": "00003-c74a2f8e-bc89-467a-85c2-abee6f93cd4f",
        "deepnote_cell_type": "code",
        "deepnote_to_be_reexecuted": false,
        "execution_millis": 1175,
        "execution_start": 1636288345626,
        "id": "ipXDgXJ5Pray",
        "source_hash": "e9c1ba90",
        "tags": []
      },
      "outputs": [],
      "source": [
        "import re\n",
        "import emoji\n",
        "from sklearn.base import BaseEstimator, TransformerMixin\n",
        "\n",
        "\n",
        "class Preprocess(BaseEstimator, TransformerMixin):\n",
        "    def __init__(self, num_step=range(7)):\n",
        "        self.num_step = num_step\n",
        "\n",
        "        self.re_emoji = emoji.get_emoji_regexp()\n",
        "        self.re_hagtag = re.compile('#\\S+')\n",
        "        self.re_giatien = re.compile('((?:(?:\\d+[,\\.]?)+) ?(?:k|vnd|d|đ|củ))')\n",
        "        self.re_special_chars = re.compile('[@!#$&^*%<>?/=+`]')\n",
        "        khong = 'k|K|hong|Ko|ko|Khg|khg|Khong|khong'\n",
        "        self.re_khong = re.compile(f'(?:^|(?<= ))({khong})(?:(?= )|$)')\n",
        "\n",
        "    def step0(self, text):\n",
        "        \"\"\"Thay #lozi, #blabla thành hag_tag\n",
        "        \"\"\"\n",
        "        return self.re_hagtag.sub(' hag_tag ', text)\n",
        "\n",
        "    def step1(self, text):\n",
        "        \"\"\"Thay 100k, 200d thành 'gia_tien'. \n",
        "        \"\"\"\n",
        "        return self.re_giatien.sub(' giá_tiền ', text)\n",
        "\n",
        "    def step2(self, text):\n",
        "        \"\"\"Xóa kí tự đặc biệt\n",
        "        \"\"\"\n",
        "        return self.re_special_chars.sub('', text)\n",
        "\n",
        "    def step3(self, text):\n",
        "        \"\"\"Xóa emoji 🍿\n",
        "        \"\"\"\n",
        "        return self.re_emoji.sub('', text)\n",
        "\n",
        "    def step4(self, text):\n",
        "        \"\"\"đổi các từ phủ định sau: khong, ko, khg, k… thành không\n",
        "        \"\"\"\n",
        "        return self.re_khong.sub('không', text)\n",
        "\n",
        "    def step5(self, text):\n",
        "        \"\"\"phân thành token và pos tagging sử dụng thư viện Pyvi\n",
        "        \"\"\"\n",
        "        return text\n",
        "\n",
        "    def step6(self, text):\n",
        "        \"\"\"Loại bỏ tên đồ ăn và thức uống\n",
        "        \"\"\"\n",
        "        return text\n",
        "\n",
        "    def fit(self, X, y=None):\n",
        "        return self\n",
        "\n",
        "    def transform(self, X):\n",
        "        result = np.empty((len(X),), dtype=object)\n",
        "\n",
        "        steps = np.array([self.step0,\n",
        "                          self.step1,\n",
        "                          self.step2,\n",
        "                          self.step3,\n",
        "                          self.step4,\n",
        "                          self.step5,\n",
        "                          self.step6])\n",
        "\n",
        "        for i, text in enumerate(X):\n",
        "            for step in steps[self.num_step]:\n",
        "                text = step(text)\n",
        "            result[i] = text\n",
        "\n",
        "        return result\n",
        "\n",
        "    def __call__(self, X):\n",
        "        return self.transform(X)\n"
      ]
    },
    {
      "cell_type": "code",
      "execution_count": 45,
      "metadata": {
        "colab": {
          "base_uri": "https://localhost:8080/"
        },
        "id": "rJSn56Ai9pwF",
        "outputId": "4067987b-26bc-4d5d-c620-68a16f90a604"
      },
      "outputs": [
        {
          "data": {
            "text/plain": [
              "array(['không khí trong lành. đồ ăn không ngon, thức uống  không tồi; ',\n",
              "       'khung cảnh xinh đẹp', ' giá_tiền  quá mắc',\n",
              "       'món ăn này mắc quá tới  giá_tiền  lận. ngày 2332000 ',\n",
              "       'mua  giá_tiền ', 'bán  giá_tiền . 5 cái bành xèo tốn  giá_tiền ',\n",
              "       'bán  giá_tiền . 5 cái bành xèo tốn  giá_tiền  4',\n",
              "       'món ăn này có giá 10 lít', 'món ăn này tận  giá_tiền ',\n",
              "       'bán  giá_tiền ',\n",
              "       'quán này có giá trung bình từ  giá_tiền - giá_tiền  ',\n",
              "       'quán này có giá trung bình từ 100- giá_tiền  ',\n",
              "       ' hag_tag   hag_tag ',\n",
              "       'bàn ghế sạch đẹp, thái độ nhân viên ok hag_tag  ',\n",
              "       ' hag_tag  ở nhà vẫn vui', ' birthday ngày mai có tiệc ',\n",
              "       'aslkdhlakd hag_tag  asljdalskjd', ' hag_tag     hag_tag ',\n",
              "       ' hag_tag  alskjdlasjd  hag_tag  asdsadas  hag_tag  ', ' hag_tag ',\n",
              "       ' hag_tag '], dtype=object)"
            ]
          },
          "execution_count": 45,
          "metadata": {},
          "output_type": "execute_result"
        }
      ],
      "source": [
        "texts = [\n",
        "    'K khí trong lành. đồ ăn hong ngon, thức uống  K tồi; 🥙🌮',\n",
        "    'khung cảnh xinh đẹp',\n",
        "    '200k quá mắc',\n",
        "    'món ăn này mắc quá tới 200k lận. ngày 23/3/2000 😴',\n",
        "    'mua 100.000vnd',\n",
        "    'bán 1,000,000 d. 5 cái bành xèo tốn 500k',\n",
        "    'bán 1.000.000 d. 5 cái bành xèo tốn 500k %^^4',\n",
        "    'món ăn này có giá 10 lít',\n",
        "    'món ăn này tận 1 củ',\n",
        "    'bán 1.000đ',\n",
        "    'quán này có giá trung bình từ 100k-200k 😛',\n",
        "    'quán này có giá trung bình từ 100-200k 😫',\n",
        "    '#mắc #food',\n",
        "    'bàn ghế sạch đẹp, thái độ nhân viên ok#restaurant 😍',\n",
        "    '#tiktok ở nhà vẫn vui',\n",
        "    '# birthday ngày mai có tiệc ^^',\n",
        "    'aslkdhlakd#tiktok#learn asljdalskjd',\n",
        "    '#tiktok   #learn',\n",
        "    '#hastag alskjdlasjd #hastag asdsadas #hastag 😁',\n",
        "    '#123&456',\n",
        "    '#!?@!',\n",
        "]\n",
        "\n",
        "\n",
        "preprocess = Preprocess()\n",
        "preprocess(texts)"
      ]
    },
    {
      "cell_type": "markdown",
      "metadata": {
        "cell_id": "00008-3e35d1d6-b9cd-4dc2-a45e-ccf833534cd9",
        "deepnote_cell_type": "markdown",
        "id": "ppKYl2LZPra0",
        "tags": []
      },
      "source": [
        "# Models"
      ]
    },
    {
      "cell_type": "code",
      "execution_count": 46,
      "metadata": {
        "id": "30FSxRFlHwiF"
      },
      "outputs": [],
      "source": [
        "from sklearn.svm import LinearSVC\n",
        "from sklearn.pipeline import make_pipeline\n",
        "from sklearn.ensemble import RandomForestClassifier\n",
        "from sklearn.multioutput import MultiOutputClassifier\n",
        "from sklearn.feature_extraction.text import TfidfVectorizer"
      ]
    },
    {
      "cell_type": "markdown",
      "metadata": {
        "cell_id": "00009-7356580d-3c96-4494-bf3f-f7569dae1e30",
        "deepnote_cell_type": "markdown",
        "id": "UdafGAfHPra1",
        "tags": []
      },
      "source": [
        "## Model 0 (Random Forest)"
      ]
    },
    {
      "cell_type": "code",
      "execution_count": 48,
      "metadata": {
        "cell_id": "00010-7ce90a23-0f45-4247-baed-e58098dd73c8",
        "colab": {
          "base_uri": "https://localhost:8080/"
        },
        "deepnote_cell_type": "code",
        "deepnote_to_be_reexecuted": false,
        "execution_millis": 25564,
        "execution_start": 1636288350249,
        "id": "NkMnAcaMPra2",
        "outputId": "6d337069-d9f3-4d83-a531-99412843e661",
        "source_hash": "aeeeb532",
        "tags": []
      },
      "outputs": [
        {
          "data": {
            "text/plain": [
              "Pipeline(steps=[('preprocess', Preprocess(num_step=[2, 3, 4])),\n",
              "                ('tfidfvectorizer', TfidfVectorizer()),\n",
              "                ('randomforestclassifier',\n",
              "                 RandomForestClassifier(random_state=5))])"
            ]
          },
          "execution_count": 48,
          "metadata": {},
          "output_type": "execute_result"
        }
      ],
      "source": [
        "model0 = make_pipeline(\n",
        "    Preprocess([2, 3, 4]),\n",
        "    TfidfVectorizer(),\n",
        "    RandomForestClassifier(random_state=5)\n",
        ")\n",
        "\n",
        "model0.fit(X_train, y_train)"
      ]
    },
    {
      "cell_type": "markdown",
      "metadata": {
        "cell_id": "00011-c50d77e8-ef6e-4d61-84d1-0193eec70fcd",
        "deepnote_cell_type": "markdown",
        "id": "KTcs-sEmPra7",
        "tags": []
      },
      "source": [
        "## Model 1 (Random Forest + Full Preprocess)"
      ]
    },
    {
      "cell_type": "code",
      "execution_count": 49,
      "metadata": {
        "colab": {
          "base_uri": "https://localhost:8080/"
        },
        "id": "JSo1GkCd-gXh",
        "outputId": "e7c47218-7ef8-4333-cd2e-74b2160755b9"
      },
      "outputs": [
        {
          "data": {
            "text/plain": [
              "Pipeline(steps=[('preprocess', Preprocess()),\n",
              "                ('tfidfvectorizer', TfidfVectorizer()),\n",
              "                ('randomforestclassifier',\n",
              "                 RandomForestClassifier(random_state=5))])"
            ]
          },
          "execution_count": 49,
          "metadata": {},
          "output_type": "execute_result"
        }
      ],
      "source": [
        "model1 = make_pipeline(\n",
        "    Preprocess(),\n",
        "    TfidfVectorizer(),\n",
        "    RandomForestClassifier(random_state=5)\n",
        ")\n",
        "\n",
        "model1.fit(X_train, y_train)"
      ]
    },
    {
      "cell_type": "markdown",
      "metadata": {
        "id": "suGtT58nH36P"
      },
      "source": [
        "## Model 2 (SVM)"
      ]
    },
    {
      "cell_type": "code",
      "execution_count": 55,
      "metadata": {
        "colab": {
          "base_uri": "https://localhost:8080/"
        },
        "id": "H4Rudh9JH6pG",
        "outputId": "e5eaed85-e916-4a90-eab4-d5878bc2337e"
      },
      "outputs": [
        {
          "data": {
            "text/plain": [
              "Pipeline(steps=[('preprocess', Preprocess()),\n",
              "                ('tfidfvectorizer', TfidfVectorizer()),\n",
              "                ('multioutputclassifier',\n",
              "                 MultiOutputClassifier(estimator=LinearSVC(random_state=5)))])"
            ]
          },
          "execution_count": 55,
          "metadata": {},
          "output_type": "execute_result"
        }
      ],
      "source": [
        "model2 = make_pipeline(\n",
        "    Preprocess(),\n",
        "    TfidfVectorizer(),\n",
        "    MultiOutputClassifier(LinearSVC(random_state=5))\n",
        ")\n",
        "\n",
        "model2.fit(X_train, y_train)"
      ]
    },
    {
      "cell_type": "markdown",
      "metadata": {},
      "source": [
        "## Model 3(SVM)"
      ]
    },
    {
      "cell_type": "code",
      "execution_count": null,
      "metadata": {},
      "outputs": [],
      "source": [
        "!pip install -q underthesea"
      ]
    },
    {
      "cell_type": "code",
      "execution_count": null,
      "metadata": {},
      "outputs": [],
      "source": [
        "from underthesea import word_tokenize\n",
        "vectorizer = TfidfVectorizer(\n",
        "    tokenizer=(word_tokenize)\n",
        ")\n",
        "\n",
        "vectorizer.fit_transform([\n",
        "    'chợ thịt chó nổi tiếng ở Sài Gòn bị truy quét'\n",
        "])\n"
      ]
    },
    {
      "cell_type": "markdown",
      "metadata": {
        "cell_id": "00011-0d327c11-f739-49f4-b198-560e8b9d6e52",
        "deepnote_cell_type": "markdown",
        "id": "J7cEYevzPrbB",
        "tags": []
      },
      "source": [
        "# Evaluation"
      ]
    },
    {
      "cell_type": "markdown",
      "metadata": {
        "cell_id": "00010-eff12a6a-5a41-4f93-a126-304521a74a6b",
        "deepnote_cell_type": "markdown",
        "id": "ifpwSTzePrbB",
        "tags": []
      },
      "source": [
        "## Custom Evaluation Tool"
      ]
    },
    {
      "cell_type": "code",
      "execution_count": 51,
      "metadata": {
        "cell_id": "00012-b9bff05c-e4c5-4a22-92c9-26127c0e1dbe",
        "deepnote_cell_type": "code",
        "deepnote_to_be_reexecuted": false,
        "execution_millis": 13,
        "execution_start": 1636288670125,
        "id": "zc6q7dDlPrbC",
        "source_hash": "1509ca9f",
        "tags": []
      },
      "outputs": [],
      "source": [
        "from sklearn.metrics import f1_score\n",
        "\n",
        "def multioutput_to_multilabel(y):\n",
        "    if isinstance(y, pd.DataFrame): \n",
        "        y = y.values\n",
        "    nrow = y.shape[0]\n",
        "    ncol = y.shape[1]\n",
        "    multilabel = np.zeros((nrow, 3 * ncol), dtype=bool)\n",
        "    for i in range(nrow):\n",
        "        for j in range(ncol):\n",
        "            if y[i, j] != 0:\n",
        "                pos = j * 3 + (y[i, j] - 1)\n",
        "                multilabel[i, pos] = True\n",
        "    return multilabel\n",
        "\n",
        "\n",
        "def custom_f1_score(y_true, y_pred, average='micro', **kwargs):\n",
        "    y_true = multioutput_to_multilabel(y_true)\n",
        "    y_pred = multioutput_to_multilabel(y_pred)\n",
        "    return f1_score(y_true, y_pred, average=average, **kwargs)\n",
        "\n",
        "\n",
        "def custom_evaluate(model, X, y_true):\n",
        "    y_pred = model.predict(X)\n",
        "    return custom_f1_score(y_true, y_pred)"
      ]
    },
    {
      "cell_type": "code",
      "execution_count": 52,
      "metadata": {
        "cell_id": "00014-b15afbe4-48db-480b-841c-7b9cdc1c0a9d",
        "colab": {
          "base_uri": "https://localhost:8080/"
        },
        "deepnote_cell_type": "code",
        "deepnote_to_be_reexecuted": false,
        "execution_millis": 6268,
        "execution_start": 1636288670971,
        "id": "L1yw_AYSPrbD",
        "outputId": "1c915e4d-d79f-4373-df26-2f5b0cbfe51e",
        "source_hash": "697626ef",
        "tags": []
      },
      "outputs": [
        {
          "data": {
            "text/plain": [
              "0.5819713563605728"
            ]
          },
          "execution_count": 52,
          "metadata": {},
          "output_type": "execute_result"
        }
      ],
      "source": [
        "custom_evaluate(model0, X_dev, y_dev)"
      ]
    },
    {
      "cell_type": "code",
      "execution_count": 53,
      "metadata": {
        "cell_id": "00015-547fbe10-404e-40e2-9b8d-750be3e92166",
        "colab": {
          "base_uri": "https://localhost:8080/"
        },
        "deepnote_cell_type": "code",
        "deepnote_to_be_reexecuted": false,
        "execution_millis": 6767,
        "execution_start": 1636288677248,
        "id": "cdJiA8xDPrbE",
        "outputId": "dc3d7dda-d6c9-4f97-f504-2d4eb7f5e981",
        "source_hash": "32971ce5",
        "tags": []
      },
      "outputs": [
        {
          "data": {
            "text/plain": [
              "0.5982934033475549"
            ]
          },
          "execution_count": 53,
          "metadata": {},
          "output_type": "execute_result"
        }
      ],
      "source": [
        "custom_evaluate(model1, X_dev, y_dev)"
      ]
    },
    {
      "cell_type": "code",
      "execution_count": 56,
      "metadata": {
        "colab": {
          "base_uri": "https://localhost:8080/"
        },
        "id": "LKliEuIjJjT9",
        "outputId": "06992b66-5d5c-4b12-eb25-d695079a9766"
      },
      "outputs": [
        {
          "data": {
            "text/plain": [
              "0.6493506493506493"
            ]
          },
          "execution_count": 56,
          "metadata": {},
          "output_type": "execute_result"
        }
      ],
      "source": [
        "custom_evaluate(model2, X_dev, y_dev)"
      ]
    },
    {
      "cell_type": "markdown",
      "metadata": {
        "cell_id": "00012-e478f5bc-5382-462f-83c4-ad5794d91db2",
        "deepnote_cell_type": "markdown",
        "deepnote_to_be_reexecuted": false,
        "execution_millis": 8,
        "execution_start": 1636200934827,
        "id": "Ffj1A2x4PrbE",
        "source_hash": "baafe620",
        "tags": []
      },
      "source": [
        "## Official Evaluation Tool"
      ]
    },
    {
      "cell_type": "code",
      "execution_count": null,
      "metadata": {
        "cell_id": "00013-5d2c09b4-69b0-43fa-8f25-96be0e915970",
        "deepnote_cell_type": "code",
        "deepnote_to_be_reexecuted": false,
        "execution_millis": 73,
        "execution_start": 1636288684391,
        "id": "wJ2WOA_XPrbF",
        "source_hash": "2185a5d1",
        "tags": []
      },
      "outputs": [],
      "source": [
        "import json\n",
        "\n",
        "\n",
        "sentiments = [None, 'negative', 'neutral', 'positive']\n",
        "\n",
        "with open(data_dir/'aspects.json') as f:\n",
        "    aspects = json.load(f)\n",
        "\n",
        "\n",
        "def label_decoder(encoded_label):\n",
        "    label = []\n",
        "    for ap_idx, stm_idx in enumerate(encoded_label):\n",
        "        if stm_idx != 0:\n",
        "            aspect = aspects[ap_idx]\n",
        "            sentiment = sentiments[stm_idx]\n",
        "            label.append(f'{{{aspect}, {sentiment}}}')\n",
        "\n",
        "    return ', '.join(label)\n",
        "\n",
        "\n",
        "def save_result(X, y, save_path):\n",
        "    rows = []\n",
        "    for test_id, (review, encoded_label) in enumerate(zip(X, y), 1):\n",
        "        label = label_decoder(encoded_label)\n",
        "        rows.extend((f'#{test_id}', review, label, ''))\n",
        "\n",
        "    text = '\\n'.join(rows[:-1])\n",
        "    with open(save_path, mode='w', encoding='utf-8-sig') as output_file:\n",
        "        output_file.write(text)\n",
        "\n",
        "    \n",
        "def evaluate(model, X, y_true_path, y_pred_path):\n",
        "    y = model.predict(X)\n",
        "    save_result(X, y, y_pred_path)\n",
        "    !java SAEvaluate.java {y_true_path} {y_pred_path}"
      ]
    },
    {
      "cell_type": "markdown",
      "metadata": {
        "cell_id": "00014-73adb552-5932-4494-aa81-57e9018cd738",
        "deepnote_cell_type": "markdown",
        "id": "GLy41eh-PrbH",
        "tags": []
      },
      "source": [
        "### Evaluate on dev"
      ]
    },
    {
      "cell_type": "code",
      "execution_count": null,
      "metadata": {
        "cell_id": "00014-d4511775-1ad8-436a-a04f-7c11969e4518",
        "colab": {
          "base_uri": "https://localhost:8080/"
        },
        "deepnote_cell_type": "code",
        "deepnote_to_be_reexecuted": false,
        "execution_millis": 10726,
        "execution_start": 1636288954126,
        "id": "PfYq6S_vPrbH",
        "outputId": "1d03825b-3edd-4e08-8d95-d0e8c76e3a2f",
        "output_cleared": false,
        "source_hash": "6b47192d",
        "tags": []
      },
      "outputs": [],
      "source": [
        "evaluate(model0, X_dev, \"y_dev.txt\", \"y_pred_model0.txt\")"
      ]
    },
    {
      "cell_type": "code",
      "execution_count": null,
      "metadata": {
        "cell_id": "00020-09be1094-d5fa-4b4d-a0b5-d0905683bc56",
        "colab": {
          "base_uri": "https://localhost:8080/"
        },
        "deepnote_cell_type": "code",
        "deepnote_to_be_reexecuted": false,
        "execution_millis": 10764,
        "execution_start": 1636288964905,
        "id": "kWZAmBpKPrbI",
        "outputId": "cc2735a7-7fcc-4d3f-9b35-5c69d582f484",
        "source_hash": "6015e1b7",
        "tags": []
      },
      "outputs": [],
      "source": [
        "evaluate(model1, X_dev, \"y_dev.txt\", \"y_pred_model1.txt\")"
      ]
    },
    {
      "cell_type": "code",
      "execution_count": null,
      "metadata": {
        "colab": {
          "base_uri": "https://localhost:8080/"
        },
        "id": "V48odsLo_jxE",
        "outputId": "c6b91a0d-2950-4dfc-aa0c-c1d4ca693c5e"
      },
      "outputs": [],
      "source": [
        "evaluate(model2, X_dev, \"y_dev.txt\", \"y_pred_model2.txt\")"
      ]
    },
    {
      "cell_type": "markdown",
      "metadata": {
        "cell_id": "00016-6b19a07e-8e2a-4155-b0a8-1f24e0f31aac",
        "deepnote_cell_type": "markdown",
        "deepnote_to_be_reexecuted": false,
        "execution_millis": 7,
        "execution_start": 1636200994481,
        "id": "PGOJ0-nSPrbI",
        "source_hash": "153eeadb",
        "tags": []
      },
      "source": [
        "### Evaluate on test"
      ]
    },
    {
      "cell_type": "markdown",
      "metadata": {
        "cell_id": "00008-1e7ea5b2-16ef-4f31-952d-4d29611d5191",
        "deepnote_cell_type": "markdown",
        "id": "_OdUY5xNPrbJ",
        "tags": []
      },
      "source": [
        "# Code nháp gõ dưới đây"
      ]
    },
    {
      "cell_type": "code",
      "execution_count": null,
      "metadata": {
        "cell_id": "00012-bba7157f-617b-49b2-ba3e-4943dba37ef2",
        "deepnote_cell_type": "code",
        "deepnote_to_be_reexecuted": false,
        "execution_millis": 0,
        "execution_start": 1636104072274,
        "id": "vtpp5TjBPrbM",
        "source_hash": "172228af",
        "tags": []
      },
      "outputs": [],
      "source": [
        "import re\n",
        "import numpy as np\n",
        "def transform_units_123(texts):\n",
        "    return np.array([re.sub(r\"[_@!#$&^*%<>?/=+`]\",'',text) for text in texts])"
      ]
    },
    {
      "cell_type": "code",
      "execution_count": null,
      "metadata": {
        "cell_id": "00014-7884bf4d-29e0-4b0c-a074-2d7be96d4040",
        "deepnote_cell_type": "code",
        "deepnote_to_be_reexecuted": false,
        "execution_millis": 2,
        "execution_start": 1636104075894,
        "id": "OoUjDltjPrbN",
        "source_hash": "d979b504",
        "tags": []
      },
      "outputs": [],
      "source": [
        "transform_units_123(['@ hên quá đi=, hôm nay cô không khảo bài ^'])"
      ]
    },
    {
      "cell_type": "code",
      "execution_count": null,
      "metadata": {
        "cell_id": "00017-632dec3f-d9f1-44ba-bf73-e7835fda4906",
        "deepnote_cell_type": "code",
        "id": "iTEILQjIPrbO",
        "tags": []
      },
      "outputs": [],
      "source": []
    },
    {
      "cell_type": "markdown",
      "metadata": {
        "created_in_deepnote_cell": true,
        "deepnote_cell_type": "markdown",
        "id": "QX8OGLR0PrbO",
        "tags": []
      },
      "source": [
        "<a style='text-decoration:none;line-height:16px;display:flex;color:#5B5B62;padding:10px;justify-content:end;' href='https://deepnote.com?utm_source=created-in-deepnote-cell&projectId=b5b5c153-f56a-4329-a053-06afe7378c69' target=\"_blank\">\n",
        "<img alt='Created in deepnote.com' style='display:inline;max-height:16px;margin:0px;margin-right:7.5px;' src='data:image/svg+xml;base64,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' > </img>\n",
        "Created in <span style='font-weight:600;margin-left:4px;'>Deepnote</span></a>"
      ]
    }
  ],
  "metadata": {
    "colab": {
      "collapsed_sections": [
        "UdafGAfHPra1"
      ],
      "name": "notebook.ipynb",
      "provenance": []
    },
    "deepnote": {
      "is_reactive": false
    },
    "deepnote_execution_queue": [],
    "deepnote_notebook_id": "89096161-8db2-4c83-bd09-f2de34fe0e65",
    "kernelspec": {
      "display_name": "Python 3",
      "name": "python3"
    },
    "language_info": {
      "codemirror_mode": {
        "name": "ipython",
        "version": 3
      },
      "file_extension": ".py",
      "mimetype": "text/x-python",
      "name": "python",
      "nbconvert_exporter": "python",
      "pygments_lexer": "ipython3",
      "version": "3.9.7"
    },
    "orig_nbformat": 2
  },
  "nbformat": 4,
  "nbformat_minor": 0
}
