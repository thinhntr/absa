{
  "nbformat": 4,
  "nbformat_minor": 0,
  "metadata": {
    "colab": {
      "name": "notebook.ipynb",
      "provenance": [],
      "collapsed_sections": []
    },
    "deepnote": {
      "is_reactive": false
    },
    "deepnote_execution_queue": [],
    "deepnote_notebook_id": "89096161-8db2-4c83-bd09-f2de34fe0e65",
    "kernelspec": {
      "display_name": "Python 3",
      "name": "python3"
    },
    "language_info": {
      "codemirror_mode": {
        "name": "ipython",
        "version": 3
      },
      "file_extension": ".py",
      "mimetype": "text/x-python",
      "name": "python",
      "nbconvert_exporter": "python",
      "pygments_lexer": "ipython3",
      "version": "3.9.7"
    },
    "orig_nbformat": 2,
    "widgets": {
      "application/vnd.jupyter.widget-state+json": {
        "b09acdaba6804c60914d7f3e58eb4b77": {
          "model_module": "@jupyter-widgets/controls",
          "model_name": "HBoxModel",
          "model_module_version": "1.5.0",
          "state": {
            "_view_name": "HBoxView",
            "_dom_classes": [],
            "_model_name": "HBoxModel",
            "_view_module": "@jupyter-widgets/controls",
            "_model_module_version": "1.5.0",
            "_view_count": null,
            "_view_module_version": "1.5.0",
            "box_style": "",
            "layout": "IPY_MODEL_117187f473ac41e48f1ba62ae6996109",
            "_model_module": "@jupyter-widgets/controls",
            "children": [
              "IPY_MODEL_c2b82ea7f1c14a409f014915fe96e23d",
              "IPY_MODEL_bbda48a5379a469f8e395e10d7de578e",
              "IPY_MODEL_c04008efa25f40fca8e34fb4d4ae6ec5"
            ]
          }
        },
        "117187f473ac41e48f1ba62ae6996109": {
          "model_module": "@jupyter-widgets/base",
          "model_name": "LayoutModel",
          "model_module_version": "1.2.0",
          "state": {
            "_view_name": "LayoutView",
            "grid_template_rows": null,
            "right": null,
            "justify_content": null,
            "_view_module": "@jupyter-widgets/base",
            "overflow": null,
            "_model_module_version": "1.2.0",
            "_view_count": null,
            "flex_flow": null,
            "width": null,
            "min_width": null,
            "border": null,
            "align_items": null,
            "bottom": null,
            "_model_module": "@jupyter-widgets/base",
            "top": null,
            "grid_column": null,
            "overflow_y": null,
            "overflow_x": null,
            "grid_auto_flow": null,
            "grid_area": null,
            "grid_template_columns": null,
            "flex": null,
            "_model_name": "LayoutModel",
            "justify_items": null,
            "grid_row": null,
            "max_height": null,
            "align_content": null,
            "visibility": null,
            "align_self": null,
            "height": null,
            "min_height": null,
            "padding": null,
            "grid_auto_rows": null,
            "grid_gap": null,
            "max_width": null,
            "order": null,
            "_view_module_version": "1.2.0",
            "grid_template_areas": null,
            "object_position": null,
            "object_fit": null,
            "grid_auto_columns": null,
            "margin": null,
            "display": null,
            "left": null
          }
        },
        "c2b82ea7f1c14a409f014915fe96e23d": {
          "model_module": "@jupyter-widgets/controls",
          "model_name": "HTMLModel",
          "model_module_version": "1.5.0",
          "state": {
            "_view_name": "HTMLView",
            "style": "IPY_MODEL_325b7d0fa0c643fcbe6d977bc0553ec5",
            "_dom_classes": [],
            "description": "",
            "_model_name": "HTMLModel",
            "placeholder": "​",
            "_view_module": "@jupyter-widgets/controls",
            "_model_module_version": "1.5.0",
            "value": "100%",
            "_view_count": null,
            "_view_module_version": "1.5.0",
            "description_tooltip": null,
            "_model_module": "@jupyter-widgets/controls",
            "layout": "IPY_MODEL_773ab6e357f942fbab530510a6e19310"
          }
        },
        "bbda48a5379a469f8e395e10d7de578e": {
          "model_module": "@jupyter-widgets/controls",
          "model_name": "FloatProgressModel",
          "model_module_version": "1.5.0",
          "state": {
            "_view_name": "ProgressView",
            "style": "IPY_MODEL_3103bcfeac4d490b91cbc9a1ae76ba3d",
            "_dom_classes": [],
            "description": "",
            "_model_name": "FloatProgressModel",
            "bar_style": "success",
            "max": 9,
            "_view_module": "@jupyter-widgets/controls",
            "_model_module_version": "1.5.0",
            "value": 9,
            "_view_count": null,
            "_view_module_version": "1.5.0",
            "orientation": "horizontal",
            "min": 0,
            "description_tooltip": null,
            "_model_module": "@jupyter-widgets/controls",
            "layout": "IPY_MODEL_adb577814bc54f4188104854b49c1304"
          }
        },
        "c04008efa25f40fca8e34fb4d4ae6ec5": {
          "model_module": "@jupyter-widgets/controls",
          "model_name": "HTMLModel",
          "model_module_version": "1.5.0",
          "state": {
            "_view_name": "HTMLView",
            "style": "IPY_MODEL_7c87c3b55b19496282f29fb1eab58483",
            "_dom_classes": [],
            "description": "",
            "_model_name": "HTMLModel",
            "placeholder": "​",
            "_view_module": "@jupyter-widgets/controls",
            "_model_module_version": "1.5.0",
            "value": " 9/9 [05:51&lt;00:00, 55.79s/it]",
            "_view_count": null,
            "_view_module_version": "1.5.0",
            "description_tooltip": null,
            "_model_module": "@jupyter-widgets/controls",
            "layout": "IPY_MODEL_a25d19dc99ac436591a0dc185204326c"
          }
        },
        "325b7d0fa0c643fcbe6d977bc0553ec5": {
          "model_module": "@jupyter-widgets/controls",
          "model_name": "DescriptionStyleModel",
          "model_module_version": "1.5.0",
          "state": {
            "_view_name": "StyleView",
            "_model_name": "DescriptionStyleModel",
            "description_width": "",
            "_view_module": "@jupyter-widgets/base",
            "_model_module_version": "1.5.0",
            "_view_count": null,
            "_view_module_version": "1.2.0",
            "_model_module": "@jupyter-widgets/controls"
          }
        },
        "773ab6e357f942fbab530510a6e19310": {
          "model_module": "@jupyter-widgets/base",
          "model_name": "LayoutModel",
          "model_module_version": "1.2.0",
          "state": {
            "_view_name": "LayoutView",
            "grid_template_rows": null,
            "right": null,
            "justify_content": null,
            "_view_module": "@jupyter-widgets/base",
            "overflow": null,
            "_model_module_version": "1.2.0",
            "_view_count": null,
            "flex_flow": null,
            "width": null,
            "min_width": null,
            "border": null,
            "align_items": null,
            "bottom": null,
            "_model_module": "@jupyter-widgets/base",
            "top": null,
            "grid_column": null,
            "overflow_y": null,
            "overflow_x": null,
            "grid_auto_flow": null,
            "grid_area": null,
            "grid_template_columns": null,
            "flex": null,
            "_model_name": "LayoutModel",
            "justify_items": null,
            "grid_row": null,
            "max_height": null,
            "align_content": null,
            "visibility": null,
            "align_self": null,
            "height": null,
            "min_height": null,
            "padding": null,
            "grid_auto_rows": null,
            "grid_gap": null,
            "max_width": null,
            "order": null,
            "_view_module_version": "1.2.0",
            "grid_template_areas": null,
            "object_position": null,
            "object_fit": null,
            "grid_auto_columns": null,
            "margin": null,
            "display": null,
            "left": null
          }
        },
        "3103bcfeac4d490b91cbc9a1ae76ba3d": {
          "model_module": "@jupyter-widgets/controls",
          "model_name": "ProgressStyleModel",
          "model_module_version": "1.5.0",
          "state": {
            "_view_name": "StyleView",
            "_model_name": "ProgressStyleModel",
            "description_width": "",
            "_view_module": "@jupyter-widgets/base",
            "_model_module_version": "1.5.0",
            "_view_count": null,
            "_view_module_version": "1.2.0",
            "bar_color": null,
            "_model_module": "@jupyter-widgets/controls"
          }
        },
        "adb577814bc54f4188104854b49c1304": {
          "model_module": "@jupyter-widgets/base",
          "model_name": "LayoutModel",
          "model_module_version": "1.2.0",
          "state": {
            "_view_name": "LayoutView",
            "grid_template_rows": null,
            "right": null,
            "justify_content": null,
            "_view_module": "@jupyter-widgets/base",
            "overflow": null,
            "_model_module_version": "1.2.0",
            "_view_count": null,
            "flex_flow": null,
            "width": null,
            "min_width": null,
            "border": null,
            "align_items": null,
            "bottom": null,
            "_model_module": "@jupyter-widgets/base",
            "top": null,
            "grid_column": null,
            "overflow_y": null,
            "overflow_x": null,
            "grid_auto_flow": null,
            "grid_area": null,
            "grid_template_columns": null,
            "flex": null,
            "_model_name": "LayoutModel",
            "justify_items": null,
            "grid_row": null,
            "max_height": null,
            "align_content": null,
            "visibility": null,
            "align_self": null,
            "height": null,
            "min_height": null,
            "padding": null,
            "grid_auto_rows": null,
            "grid_gap": null,
            "max_width": null,
            "order": null,
            "_view_module_version": "1.2.0",
            "grid_template_areas": null,
            "object_position": null,
            "object_fit": null,
            "grid_auto_columns": null,
            "margin": null,
            "display": null,
            "left": null
          }
        },
        "7c87c3b55b19496282f29fb1eab58483": {
          "model_module": "@jupyter-widgets/controls",
          "model_name": "DescriptionStyleModel",
          "model_module_version": "1.5.0",
          "state": {
            "_view_name": "StyleView",
            "_model_name": "DescriptionStyleModel",
            "description_width": "",
            "_view_module": "@jupyter-widgets/base",
            "_model_module_version": "1.5.0",
            "_view_count": null,
            "_view_module_version": "1.2.0",
            "_model_module": "@jupyter-widgets/controls"
          }
        },
        "a25d19dc99ac436591a0dc185204326c": {
          "model_module": "@jupyter-widgets/base",
          "model_name": "LayoutModel",
          "model_module_version": "1.2.0",
          "state": {
            "_view_name": "LayoutView",
            "grid_template_rows": null,
            "right": null,
            "justify_content": null,
            "_view_module": "@jupyter-widgets/base",
            "overflow": null,
            "_model_module_version": "1.2.0",
            "_view_count": null,
            "flex_flow": null,
            "width": null,
            "min_width": null,
            "border": null,
            "align_items": null,
            "bottom": null,
            "_model_module": "@jupyter-widgets/base",
            "top": null,
            "grid_column": null,
            "overflow_y": null,
            "overflow_x": null,
            "grid_auto_flow": null,
            "grid_area": null,
            "grid_template_columns": null,
            "flex": null,
            "_model_name": "LayoutModel",
            "justify_items": null,
            "grid_row": null,
            "max_height": null,
            "align_content": null,
            "visibility": null,
            "align_self": null,
            "height": null,
            "min_height": null,
            "padding": null,
            "grid_auto_rows": null,
            "grid_gap": null,
            "max_width": null,
            "order": null,
            "_view_module_version": "1.2.0",
            "grid_template_areas": null,
            "object_position": null,
            "object_fit": null,
            "grid_auto_columns": null,
            "margin": null,
            "display": null,
            "left": null
          }
        },
        "7a28821521074b4fa61d5b8b2e33aad6": {
          "model_module": "@jupyter-widgets/controls",
          "model_name": "HBoxModel",
          "model_module_version": "1.5.0",
          "state": {
            "_view_name": "HBoxView",
            "_dom_classes": [],
            "_model_name": "HBoxModel",
            "_view_module": "@jupyter-widgets/controls",
            "_model_module_version": "1.5.0",
            "_view_count": null,
            "_view_module_version": "1.5.0",
            "box_style": "",
            "layout": "IPY_MODEL_35ce336acd4b40e1ac0a6b77676835db",
            "_model_module": "@jupyter-widgets/controls",
            "children": [
              "IPY_MODEL_3d27a9931bb94637ae6ae932b92bc8ac",
              "IPY_MODEL_10467736dce44ae1b1bec49107335a0f",
              "IPY_MODEL_92669d63afd34d52a45cf45d19ffcaed"
            ]
          }
        },
        "35ce336acd4b40e1ac0a6b77676835db": {
          "model_module": "@jupyter-widgets/base",
          "model_name": "LayoutModel",
          "model_module_version": "1.2.0",
          "state": {
            "_view_name": "LayoutView",
            "grid_template_rows": null,
            "right": null,
            "justify_content": null,
            "_view_module": "@jupyter-widgets/base",
            "overflow": null,
            "_model_module_version": "1.2.0",
            "_view_count": null,
            "flex_flow": null,
            "width": null,
            "min_width": null,
            "border": null,
            "align_items": null,
            "bottom": null,
            "_model_module": "@jupyter-widgets/base",
            "top": null,
            "grid_column": null,
            "overflow_y": null,
            "overflow_x": null,
            "grid_auto_flow": null,
            "grid_area": null,
            "grid_template_columns": null,
            "flex": null,
            "_model_name": "LayoutModel",
            "justify_items": null,
            "grid_row": null,
            "max_height": null,
            "align_content": null,
            "visibility": null,
            "align_self": null,
            "height": null,
            "min_height": null,
            "padding": null,
            "grid_auto_rows": null,
            "grid_gap": null,
            "max_width": null,
            "order": null,
            "_view_module_version": "1.2.0",
            "grid_template_areas": null,
            "object_position": null,
            "object_fit": null,
            "grid_auto_columns": null,
            "margin": null,
            "display": null,
            "left": null
          }
        },
        "3d27a9931bb94637ae6ae932b92bc8ac": {
          "model_module": "@jupyter-widgets/controls",
          "model_name": "HTMLModel",
          "model_module_version": "1.5.0",
          "state": {
            "_view_name": "HTMLView",
            "style": "IPY_MODEL_69013f5b1c034738a6a7adcdf46af8f9",
            "_dom_classes": [],
            "description": "",
            "_model_name": "HTMLModel",
            "placeholder": "​",
            "_view_module": "@jupyter-widgets/controls",
            "_model_module_version": "1.5.0",
            "value": "100%",
            "_view_count": null,
            "_view_module_version": "1.5.0",
            "description_tooltip": null,
            "_model_module": "@jupyter-widgets/controls",
            "layout": "IPY_MODEL_ac2014112d764960bdaa4f18a027dbcd"
          }
        },
        "10467736dce44ae1b1bec49107335a0f": {
          "model_module": "@jupyter-widgets/controls",
          "model_name": "FloatProgressModel",
          "model_module_version": "1.5.0",
          "state": {
            "_view_name": "ProgressView",
            "style": "IPY_MODEL_4c3f94fa05f94368b8c470bb32bdcda6",
            "_dom_classes": [],
            "description": "",
            "_model_name": "FloatProgressModel",
            "bar_style": "success",
            "max": 9,
            "_view_module": "@jupyter-widgets/controls",
            "_model_module_version": "1.5.0",
            "value": 9,
            "_view_count": null,
            "_view_module_version": "1.5.0",
            "orientation": "horizontal",
            "min": 0,
            "description_tooltip": null,
            "_model_module": "@jupyter-widgets/controls",
            "layout": "IPY_MODEL_f479bc5570fe4356b97e06ebd2783a48"
          }
        },
        "92669d63afd34d52a45cf45d19ffcaed": {
          "model_module": "@jupyter-widgets/controls",
          "model_name": "HTMLModel",
          "model_module_version": "1.5.0",
          "state": {
            "_view_name": "HTMLView",
            "style": "IPY_MODEL_8ebe41f789d64bdbae5a876e7424629a",
            "_dom_classes": [],
            "description": "",
            "_model_name": "HTMLModel",
            "placeholder": "​",
            "_view_module": "@jupyter-widgets/controls",
            "_model_module_version": "1.5.0",
            "value": " 9/9 [01:25&lt;00:00, 15.18s/it]",
            "_view_count": null,
            "_view_module_version": "1.5.0",
            "description_tooltip": null,
            "_model_module": "@jupyter-widgets/controls",
            "layout": "IPY_MODEL_fc05bf6296f64347adf984fc593c09cd"
          }
        },
        "69013f5b1c034738a6a7adcdf46af8f9": {
          "model_module": "@jupyter-widgets/controls",
          "model_name": "DescriptionStyleModel",
          "model_module_version": "1.5.0",
          "state": {
            "_view_name": "StyleView",
            "_model_name": "DescriptionStyleModel",
            "description_width": "",
            "_view_module": "@jupyter-widgets/base",
            "_model_module_version": "1.5.0",
            "_view_count": null,
            "_view_module_version": "1.2.0",
            "_model_module": "@jupyter-widgets/controls"
          }
        },
        "ac2014112d764960bdaa4f18a027dbcd": {
          "model_module": "@jupyter-widgets/base",
          "model_name": "LayoutModel",
          "model_module_version": "1.2.0",
          "state": {
            "_view_name": "LayoutView",
            "grid_template_rows": null,
            "right": null,
            "justify_content": null,
            "_view_module": "@jupyter-widgets/base",
            "overflow": null,
            "_model_module_version": "1.2.0",
            "_view_count": null,
            "flex_flow": null,
            "width": null,
            "min_width": null,
            "border": null,
            "align_items": null,
            "bottom": null,
            "_model_module": "@jupyter-widgets/base",
            "top": null,
            "grid_column": null,
            "overflow_y": null,
            "overflow_x": null,
            "grid_auto_flow": null,
            "grid_area": null,
            "grid_template_columns": null,
            "flex": null,
            "_model_name": "LayoutModel",
            "justify_items": null,
            "grid_row": null,
            "max_height": null,
            "align_content": null,
            "visibility": null,
            "align_self": null,
            "height": null,
            "min_height": null,
            "padding": null,
            "grid_auto_rows": null,
            "grid_gap": null,
            "max_width": null,
            "order": null,
            "_view_module_version": "1.2.0",
            "grid_template_areas": null,
            "object_position": null,
            "object_fit": null,
            "grid_auto_columns": null,
            "margin": null,
            "display": null,
            "left": null
          }
        },
        "4c3f94fa05f94368b8c470bb32bdcda6": {
          "model_module": "@jupyter-widgets/controls",
          "model_name": "ProgressStyleModel",
          "model_module_version": "1.5.0",
          "state": {
            "_view_name": "StyleView",
            "_model_name": "ProgressStyleModel",
            "description_width": "",
            "_view_module": "@jupyter-widgets/base",
            "_model_module_version": "1.5.0",
            "_view_count": null,
            "_view_module_version": "1.2.0",
            "bar_color": null,
            "_model_module": "@jupyter-widgets/controls"
          }
        },
        "f479bc5570fe4356b97e06ebd2783a48": {
          "model_module": "@jupyter-widgets/base",
          "model_name": "LayoutModel",
          "model_module_version": "1.2.0",
          "state": {
            "_view_name": "LayoutView",
            "grid_template_rows": null,
            "right": null,
            "justify_content": null,
            "_view_module": "@jupyter-widgets/base",
            "overflow": null,
            "_model_module_version": "1.2.0",
            "_view_count": null,
            "flex_flow": null,
            "width": null,
            "min_width": null,
            "border": null,
            "align_items": null,
            "bottom": null,
            "_model_module": "@jupyter-widgets/base",
            "top": null,
            "grid_column": null,
            "overflow_y": null,
            "overflow_x": null,
            "grid_auto_flow": null,
            "grid_area": null,
            "grid_template_columns": null,
            "flex": null,
            "_model_name": "LayoutModel",
            "justify_items": null,
            "grid_row": null,
            "max_height": null,
            "align_content": null,
            "visibility": null,
            "align_self": null,
            "height": null,
            "min_height": null,
            "padding": null,
            "grid_auto_rows": null,
            "grid_gap": null,
            "max_width": null,
            "order": null,
            "_view_module_version": "1.2.0",
            "grid_template_areas": null,
            "object_position": null,
            "object_fit": null,
            "grid_auto_columns": null,
            "margin": null,
            "display": null,
            "left": null
          }
        },
        "8ebe41f789d64bdbae5a876e7424629a": {
          "model_module": "@jupyter-widgets/controls",
          "model_name": "DescriptionStyleModel",
          "model_module_version": "1.5.0",
          "state": {
            "_view_name": "StyleView",
            "_model_name": "DescriptionStyleModel",
            "description_width": "",
            "_view_module": "@jupyter-widgets/base",
            "_model_module_version": "1.5.0",
            "_view_count": null,
            "_view_module_version": "1.2.0",
            "_model_module": "@jupyter-widgets/controls"
          }
        },
        "fc05bf6296f64347adf984fc593c09cd": {
          "model_module": "@jupyter-widgets/base",
          "model_name": "LayoutModel",
          "model_module_version": "1.2.0",
          "state": {
            "_view_name": "LayoutView",
            "grid_template_rows": null,
            "right": null,
            "justify_content": null,
            "_view_module": "@jupyter-widgets/base",
            "overflow": null,
            "_model_module_version": "1.2.0",
            "_view_count": null,
            "flex_flow": null,
            "width": null,
            "min_width": null,
            "border": null,
            "align_items": null,
            "bottom": null,
            "_model_module": "@jupyter-widgets/base",
            "top": null,
            "grid_column": null,
            "overflow_y": null,
            "overflow_x": null,
            "grid_auto_flow": null,
            "grid_area": null,
            "grid_template_columns": null,
            "flex": null,
            "_model_name": "LayoutModel",
            "justify_items": null,
            "grid_row": null,
            "max_height": null,
            "align_content": null,
            "visibility": null,
            "align_self": null,
            "height": null,
            "min_height": null,
            "padding": null,
            "grid_auto_rows": null,
            "grid_gap": null,
            "max_width": null,
            "order": null,
            "_view_module_version": "1.2.0",
            "grid_template_areas": null,
            "object_position": null,
            "object_fit": null,
            "grid_auto_columns": null,
            "margin": null,
            "display": null,
            "left": null
          }
        }
      }
    }
  },
  "cells": [
    {
      "cell_type": "markdown",
      "metadata": {
        "id": "gH8Zl_K6X_io"
      },
      "source": [
        "# Install packages"
      ]
    },
    {
      "cell_type": "code",
      "metadata": {
        "id": "ZwKIN6EZ-eh0"
      },
      "source": [
        "!pip install -Uq emoji \\\n",
        "                 scikit-learn \\\n",
        "                 underthesea \\\n",
        "                 tqdm \\\n",
        "                 flashtext"
      ],
      "execution_count": null,
      "outputs": []
    },
    {
      "cell_type": "markdown",
      "metadata": {
        "cell_id": "00001-73dc905a-f8e8-4f5a-b542-50a626b67551",
        "deepnote_cell_type": "markdown",
        "id": "NZ2MidPrPrae",
        "tags": []
      },
      "source": [
        "# Read data"
      ]
    },
    {
      "cell_type": "code",
      "metadata": {
        "cell_id": "00000-d1f2d812-aabe-4dfd-9477-93be642302e1",
        "colab": {
          "base_uri": "https://localhost:8080/"
        },
        "deepnote_cell_type": "code",
        "deepnote_to_be_reexecuted": false,
        "execution_millis": 304,
        "execution_start": 1636288255576,
        "id": "gZj_jnCGPran",
        "source_hash": "1fdd19ce",
        "tags": [],
        "outputId": "d305a284-44a5-450e-938f-5e2b2e6c0382"
      },
      "source": [
        "import numpy as np\n",
        "import pandas as pd\n",
        "\n",
        "root = 'https://raw.githubusercontent.com/thinhntr/absa/main/data/csv/'\n",
        "train_url = root + 'train.csv'\n",
        "dev_url = root + 'dev.csv'\n",
        "test_url = root + 'test.csv'\n",
        "\n",
        "\n",
        "def read_csv(url):\n",
        "    df = pd.read_csv(url)\n",
        "\n",
        "    X = df.pop('review')\n",
        "    y = df.replace({\n",
        "        np.nan: 0, \n",
        "        'negative': 1, \n",
        "        'neutral': 2, \n",
        "        'positive': 3}) \\\n",
        "        .astype(np.uint8)\n",
        "\n",
        "    print('X.shape:', X.shape, 'y.shape:', y.shape)\n",
        "    return X, y\n",
        "\n",
        "X_train, y_train = read_csv(train_url)\n",
        "X_dev, y_dev = read_csv(dev_url)\n",
        "X_test, y_test = read_csv(test_url)"
      ],
      "execution_count": null,
      "outputs": [
        {
          "output_type": "stream",
          "name": "stdout",
          "text": [
            "X.shape: (2961,) y.shape: (2961, 12)\n",
            "X.shape: (1290,) y.shape: (1290, 12)\n",
            "X.shape: (500,) y.shape: (500, 12)\n"
          ]
        }
      ]
    },
    {
      "cell_type": "markdown",
      "metadata": {
        "cell_id": "00003-b0c4c0b2-689b-4f0b-9bb7-f78acf400fba",
        "deepnote_cell_type": "markdown",
        "id": "gtxqTCE_Prat",
        "tags": []
      },
      "source": [
        "\n",
        "# EDA"
      ]
    },
    {
      "cell_type": "code",
      "metadata": {
        "id": "ohAmNN9b50AH"
      },
      "source": [
        "from plotly.subplots import make_subplots\n",
        "import plotly.graph_objects as go\n",
        "\n",
        "y_traincp = y_train.copy()\n",
        "y_devcp = y_dev.copy()\n",
        "aspects = y_traincp.columns"
      ],
      "execution_count": null,
      "outputs": []
    },
    {
      "cell_type": "code",
      "metadata": {
        "cell_id": "00005-65a897cf-2617-4630-b025-b22821ea9438",
        "colab": {
          "base_uri": "https://localhost:8080/",
          "height": 542
        },
        "deepnote_cell_type": "code",
        "deepnote_to_be_reexecuted": false,
        "execution_millis": 2474,
        "execution_start": 1636288341908,
        "id": "QLheW64pPrav",
        "source_hash": "f8214cc3",
        "tags": [],
        "outputId": "08cb5e4f-4cc0-491d-8640-58ff086d872a"
      },
      "source": [
        "ap_train = (y_traincp != 0).sum(axis=0).sort_values()\n",
        "ap_dev   = (y_devcp   != 0).sum(axis=0).sort_values()\n",
        "\n",
        "fig = go.Figure(data=[\n",
        "    go.Bar(name='train', x=ap_train.index, y=ap_train),\n",
        "    go.Bar(name='dev'  , x=ap_dev.index  , y=ap_dev)\n",
        "])\n",
        "fig"
      ],
      "execution_count": null,
      "outputs": [
        {
          "output_type": "display_data",
          "data": {
            "text/html": [
              "<html>\n",
              "<head><meta charset=\"utf-8\" /></head>\n",
              "<body>\n",
              "    <div>\n",
              "            <script src=\"https://cdnjs.cloudflare.com/ajax/libs/mathjax/2.7.5/MathJax.js?config=TeX-AMS-MML_SVG\"></script><script type=\"text/javascript\">if (window.MathJax) {MathJax.Hub.Config({SVG: {font: \"STIX-Web\"}});}</script>\n",
              "                <script type=\"text/javascript\">window.PlotlyConfig = {MathJaxConfig: 'local'};</script>\n",
              "        <script src=\"https://cdn.plot.ly/plotly-latest.min.js\"></script>    \n",
              "            <div id=\"7fcdb2db-1b45-46e0-a80c-7afdf8ca100c\" class=\"plotly-graph-div\" style=\"height:525px; width:100%;\"></div>\n",
              "            <script type=\"text/javascript\">\n",
              "                \n",
              "                    window.PLOTLYENV=window.PLOTLYENV || {};\n",
              "                    \n",
              "                if (document.getElementById(\"7fcdb2db-1b45-46e0-a80c-7afdf8ca100c\")) {\n",
              "                    Plotly.newPlot(\n",
              "                        '7fcdb2db-1b45-46e0-a80c-7afdf8ca100c',\n",
              "                        [{\"name\": \"train\", \"type\": \"bar\", \"x\": [\"DRINKS#PRICES\", \"DRINKS#STYLE&OPTIONS\", \"DRINKS#QUALITY\", \"RESTAURANT#MISCELLANEOUS\", \"RESTAURANT#PRICES\", \"LOCATION#GENERAL\", \"AMBIENCE#GENERAL\", \"SERVICE#GENERAL\", \"RESTAURANT#GENERAL\", \"FOOD#PRICES\", \"FOOD#STYLE&OPTIONS\", \"FOOD#QUALITY\"], \"y\": [102, 102, 114, 151, 263, 373, 737, 795, 855, 1401, 1746, 2658]}, {\"name\": \"dev\", \"type\": \"bar\", \"x\": [\"DRINKS#STYLE&OPTIONS\", \"RESTAURANT#PRICES\", \"DRINKS#QUALITY\", \"DRINKS#PRICES\", \"RESTAURANT#MISCELLANEOUS\", \"LOCATION#GENERAL\", \"AMBIENCE#GENERAL\", \"SERVICE#GENERAL\", \"RESTAURANT#GENERAL\", \"FOOD#STYLE&OPTIONS\", \"FOOD#PRICES\", \"FOOD#QUALITY\"], \"y\": [10, 35, 39, 44, 117, 134, 205, 228, 231, 516, 724, 1160]}],\n",
              "                        {\"template\": {\"data\": {\"bar\": [{\"error_x\": {\"color\": \"#2a3f5f\"}, \"error_y\": {\"color\": \"#2a3f5f\"}, \"marker\": {\"line\": {\"color\": \"#E5ECF6\", \"width\": 0.5}}, \"type\": \"bar\"}], \"barpolar\": [{\"marker\": {\"line\": {\"color\": \"#E5ECF6\", \"width\": 0.5}}, \"type\": \"barpolar\"}], \"carpet\": [{\"aaxis\": {\"endlinecolor\": \"#2a3f5f\", \"gridcolor\": \"white\", \"linecolor\": \"white\", \"minorgridcolor\": \"white\", \"startlinecolor\": \"#2a3f5f\"}, \"baxis\": {\"endlinecolor\": \"#2a3f5f\", \"gridcolor\": \"white\", \"linecolor\": \"white\", \"minorgridcolor\": \"white\", \"startlinecolor\": \"#2a3f5f\"}, \"type\": \"carpet\"}], \"choropleth\": [{\"colorbar\": {\"outlinewidth\": 0, \"ticks\": \"\"}, \"type\": \"choropleth\"}], \"contour\": [{\"colorbar\": {\"outlinewidth\": 0, \"ticks\": \"\"}, \"colorscale\": [[0.0, \"#0d0887\"], [0.1111111111111111, \"#46039f\"], [0.2222222222222222, \"#7201a8\"], [0.3333333333333333, \"#9c179e\"], [0.4444444444444444, \"#bd3786\"], [0.5555555555555556, \"#d8576b\"], [0.6666666666666666, \"#ed7953\"], [0.7777777777777778, \"#fb9f3a\"], [0.8888888888888888, \"#fdca26\"], [1.0, \"#f0f921\"]], \"type\": \"contour\"}], \"contourcarpet\": [{\"colorbar\": {\"outlinewidth\": 0, \"ticks\": \"\"}, \"type\": \"contourcarpet\"}], \"heatmap\": [{\"colorbar\": {\"outlinewidth\": 0, \"ticks\": \"\"}, \"colorscale\": [[0.0, \"#0d0887\"], [0.1111111111111111, \"#46039f\"], [0.2222222222222222, \"#7201a8\"], [0.3333333333333333, \"#9c179e\"], [0.4444444444444444, \"#bd3786\"], [0.5555555555555556, \"#d8576b\"], [0.6666666666666666, \"#ed7953\"], [0.7777777777777778, \"#fb9f3a\"], [0.8888888888888888, \"#fdca26\"], [1.0, \"#f0f921\"]], \"type\": \"heatmap\"}], \"heatmapgl\": [{\"colorbar\": {\"outlinewidth\": 0, \"ticks\": \"\"}, \"colorscale\": [[0.0, \"#0d0887\"], [0.1111111111111111, \"#46039f\"], [0.2222222222222222, \"#7201a8\"], [0.3333333333333333, \"#9c179e\"], [0.4444444444444444, \"#bd3786\"], [0.5555555555555556, \"#d8576b\"], [0.6666666666666666, \"#ed7953\"], [0.7777777777777778, \"#fb9f3a\"], [0.8888888888888888, \"#fdca26\"], [1.0, \"#f0f921\"]], \"type\": \"heatmapgl\"}], \"histogram\": [{\"marker\": {\"colorbar\": {\"outlinewidth\": 0, \"ticks\": \"\"}}, \"type\": \"histogram\"}], \"histogram2d\": [{\"colorbar\": {\"outlinewidth\": 0, \"ticks\": \"\"}, \"colorscale\": [[0.0, \"#0d0887\"], [0.1111111111111111, \"#46039f\"], [0.2222222222222222, \"#7201a8\"], [0.3333333333333333, \"#9c179e\"], [0.4444444444444444, \"#bd3786\"], [0.5555555555555556, \"#d8576b\"], [0.6666666666666666, \"#ed7953\"], [0.7777777777777778, \"#fb9f3a\"], [0.8888888888888888, \"#fdca26\"], [1.0, \"#f0f921\"]], \"type\": \"histogram2d\"}], \"histogram2dcontour\": [{\"colorbar\": {\"outlinewidth\": 0, \"ticks\": \"\"}, \"colorscale\": [[0.0, \"#0d0887\"], [0.1111111111111111, \"#46039f\"], [0.2222222222222222, \"#7201a8\"], [0.3333333333333333, \"#9c179e\"], [0.4444444444444444, \"#bd3786\"], [0.5555555555555556, \"#d8576b\"], [0.6666666666666666, \"#ed7953\"], [0.7777777777777778, \"#fb9f3a\"], [0.8888888888888888, \"#fdca26\"], [1.0, \"#f0f921\"]], \"type\": \"histogram2dcontour\"}], \"mesh3d\": [{\"colorbar\": {\"outlinewidth\": 0, \"ticks\": \"\"}, \"type\": \"mesh3d\"}], \"parcoords\": [{\"line\": {\"colorbar\": {\"outlinewidth\": 0, \"ticks\": \"\"}}, \"type\": \"parcoords\"}], \"pie\": [{\"automargin\": true, \"type\": \"pie\"}], \"scatter\": [{\"marker\": {\"colorbar\": {\"outlinewidth\": 0, \"ticks\": \"\"}}, \"type\": \"scatter\"}], \"scatter3d\": [{\"line\": {\"colorbar\": {\"outlinewidth\": 0, \"ticks\": \"\"}}, \"marker\": {\"colorbar\": {\"outlinewidth\": 0, \"ticks\": \"\"}}, \"type\": \"scatter3d\"}], \"scattercarpet\": [{\"marker\": {\"colorbar\": {\"outlinewidth\": 0, \"ticks\": \"\"}}, \"type\": \"scattercarpet\"}], \"scattergeo\": [{\"marker\": {\"colorbar\": {\"outlinewidth\": 0, \"ticks\": \"\"}}, \"type\": \"scattergeo\"}], \"scattergl\": [{\"marker\": {\"colorbar\": {\"outlinewidth\": 0, \"ticks\": \"\"}}, \"type\": \"scattergl\"}], \"scattermapbox\": [{\"marker\": {\"colorbar\": {\"outlinewidth\": 0, \"ticks\": \"\"}}, \"type\": \"scattermapbox\"}], \"scatterpolar\": [{\"marker\": {\"colorbar\": {\"outlinewidth\": 0, \"ticks\": \"\"}}, \"type\": \"scatterpolar\"}], \"scatterpolargl\": [{\"marker\": {\"colorbar\": {\"outlinewidth\": 0, \"ticks\": \"\"}}, \"type\": \"scatterpolargl\"}], \"scatterternary\": [{\"marker\": {\"colorbar\": {\"outlinewidth\": 0, \"ticks\": \"\"}}, \"type\": \"scatterternary\"}], \"surface\": [{\"colorbar\": {\"outlinewidth\": 0, \"ticks\": \"\"}, \"colorscale\": [[0.0, \"#0d0887\"], [0.1111111111111111, \"#46039f\"], [0.2222222222222222, \"#7201a8\"], [0.3333333333333333, \"#9c179e\"], [0.4444444444444444, \"#bd3786\"], [0.5555555555555556, \"#d8576b\"], [0.6666666666666666, \"#ed7953\"], [0.7777777777777778, \"#fb9f3a\"], [0.8888888888888888, \"#fdca26\"], [1.0, \"#f0f921\"]], \"type\": \"surface\"}], \"table\": [{\"cells\": {\"fill\": {\"color\": \"#EBF0F8\"}, \"line\": {\"color\": \"white\"}}, \"header\": {\"fill\": {\"color\": \"#C8D4E3\"}, \"line\": {\"color\": \"white\"}}, \"type\": \"table\"}]}, \"layout\": {\"annotationdefaults\": {\"arrowcolor\": \"#2a3f5f\", \"arrowhead\": 0, \"arrowwidth\": 1}, \"coloraxis\": {\"colorbar\": {\"outlinewidth\": 0, \"ticks\": \"\"}}, \"colorscale\": {\"diverging\": [[0, \"#8e0152\"], [0.1, \"#c51b7d\"], [0.2, \"#de77ae\"], [0.3, \"#f1b6da\"], [0.4, \"#fde0ef\"], [0.5, \"#f7f7f7\"], [0.6, \"#e6f5d0\"], [0.7, \"#b8e186\"], [0.8, \"#7fbc41\"], [0.9, \"#4d9221\"], [1, \"#276419\"]], \"sequential\": [[0.0, \"#0d0887\"], [0.1111111111111111, \"#46039f\"], [0.2222222222222222, \"#7201a8\"], [0.3333333333333333, \"#9c179e\"], [0.4444444444444444, \"#bd3786\"], [0.5555555555555556, \"#d8576b\"], [0.6666666666666666, \"#ed7953\"], [0.7777777777777778, \"#fb9f3a\"], [0.8888888888888888, \"#fdca26\"], [1.0, \"#f0f921\"]], \"sequentialminus\": [[0.0, \"#0d0887\"], [0.1111111111111111, \"#46039f\"], [0.2222222222222222, \"#7201a8\"], [0.3333333333333333, \"#9c179e\"], [0.4444444444444444, \"#bd3786\"], [0.5555555555555556, \"#d8576b\"], [0.6666666666666666, \"#ed7953\"], [0.7777777777777778, \"#fb9f3a\"], [0.8888888888888888, \"#fdca26\"], [1.0, \"#f0f921\"]]}, \"colorway\": [\"#636efa\", \"#EF553B\", \"#00cc96\", \"#ab63fa\", \"#FFA15A\", \"#19d3f3\", \"#FF6692\", \"#B6E880\", \"#FF97FF\", \"#FECB52\"], \"font\": {\"color\": \"#2a3f5f\"}, \"geo\": {\"bgcolor\": \"white\", \"lakecolor\": \"white\", \"landcolor\": \"#E5ECF6\", \"showlakes\": true, \"showland\": true, \"subunitcolor\": \"white\"}, \"hoverlabel\": {\"align\": \"left\"}, \"hovermode\": \"closest\", \"mapbox\": {\"style\": \"light\"}, \"paper_bgcolor\": \"white\", \"plot_bgcolor\": \"#E5ECF6\", \"polar\": {\"angularaxis\": {\"gridcolor\": \"white\", \"linecolor\": \"white\", \"ticks\": \"\"}, \"bgcolor\": \"#E5ECF6\", \"radialaxis\": {\"gridcolor\": \"white\", \"linecolor\": \"white\", \"ticks\": \"\"}}, \"scene\": {\"xaxis\": {\"backgroundcolor\": \"#E5ECF6\", \"gridcolor\": \"white\", \"gridwidth\": 2, \"linecolor\": \"white\", \"showbackground\": true, \"ticks\": \"\", \"zerolinecolor\": \"white\"}, \"yaxis\": {\"backgroundcolor\": \"#E5ECF6\", \"gridcolor\": \"white\", \"gridwidth\": 2, \"linecolor\": \"white\", \"showbackground\": true, \"ticks\": \"\", \"zerolinecolor\": \"white\"}, \"zaxis\": {\"backgroundcolor\": \"#E5ECF6\", \"gridcolor\": \"white\", \"gridwidth\": 2, \"linecolor\": \"white\", \"showbackground\": true, \"ticks\": \"\", \"zerolinecolor\": \"white\"}}, \"shapedefaults\": {\"line\": {\"color\": \"#2a3f5f\"}}, \"ternary\": {\"aaxis\": {\"gridcolor\": \"white\", \"linecolor\": \"white\", \"ticks\": \"\"}, \"baxis\": {\"gridcolor\": \"white\", \"linecolor\": \"white\", \"ticks\": \"\"}, \"bgcolor\": \"#E5ECF6\", \"caxis\": {\"gridcolor\": \"white\", \"linecolor\": \"white\", \"ticks\": \"\"}}, \"title\": {\"x\": 0.05}, \"xaxis\": {\"automargin\": true, \"gridcolor\": \"white\", \"linecolor\": \"white\", \"ticks\": \"\", \"title\": {\"standoff\": 15}, \"zerolinecolor\": \"white\", \"zerolinewidth\": 2}, \"yaxis\": {\"automargin\": true, \"gridcolor\": \"white\", \"linecolor\": \"white\", \"ticks\": \"\", \"title\": {\"standoff\": 15}, \"zerolinecolor\": \"white\", \"zerolinewidth\": 2}}}},\n",
              "                        {\"responsive\": true}\n",
              "                    ).then(function(){\n",
              "                            \n",
              "var gd = document.getElementById('7fcdb2db-1b45-46e0-a80c-7afdf8ca100c');\n",
              "var x = new MutationObserver(function (mutations, observer) {{\n",
              "        var display = window.getComputedStyle(gd).display;\n",
              "        if (!display || display === 'none') {{\n",
              "            console.log([gd, 'removed!']);\n",
              "            Plotly.purge(gd);\n",
              "            observer.disconnect();\n",
              "        }}\n",
              "}});\n",
              "\n",
              "// Listen for the removal of the full notebook cells\n",
              "var notebookContainer = gd.closest('#notebook-container');\n",
              "if (notebookContainer) {{\n",
              "    x.observe(notebookContainer, {childList: true});\n",
              "}}\n",
              "\n",
              "// Listen for the clearing of the current output cell\n",
              "var outputEl = gd.closest('.output');\n",
              "if (outputEl) {{\n",
              "    x.observe(outputEl, {childList: true});\n",
              "}}\n",
              "\n",
              "                        })\n",
              "                };\n",
              "                \n",
              "            </script>\n",
              "        </div>\n",
              "</body>\n",
              "</html>"
            ]
          },
          "metadata": {}
        }
      ]
    },
    {
      "cell_type": "code",
      "metadata": {
        "colab": {
          "base_uri": "https://localhost:8080/",
          "height": 542
        },
        "id": "VQLRJkhS1t83",
        "outputId": "b8b0952f-44cb-4c97-8d35-c7ebb7deba8c"
      },
      "source": [
        "sentiments = ['-', 'o', '+']\n",
        "\n",
        "apstm_train = pd.DataFrame()\n",
        "apstm_dev   = pd.DataFrame()\n",
        "\n",
        "for aspect in aspects:\n",
        "    for sentiment_i, sentiment in enumerate(sentiments, 1):\n",
        "        new_col = f'{aspect}, {sentiment}'\n",
        "        apstm_train[new_col] = y_traincp[aspect] == sentiment_i\n",
        "        apstm_dev[new_col]   = y_devcp[aspect]   == sentiment_i\n",
        "\n",
        "\n",
        "apstm_train = apstm_train.sum(axis=0).sort_values()\n",
        "apstm_dev   = apstm_dev  .sum(axis=0).sort_values()\n",
        "\n",
        "fig = go.Figure([\n",
        "           go.Bar(name='train', x=apstm_train.index, y=apstm_train),\n",
        "           go.Bar(name='dev'  , x=apstm_dev.index  , y=apstm_dev)\n",
        "])\n",
        "fig.update_layout(xaxis_tickangle=90)\n",
        "fig"
      ],
      "execution_count": null,
      "outputs": [
        {
          "output_type": "display_data",
          "data": {
            "text/html": [
              "<html>\n",
              "<head><meta charset=\"utf-8\" /></head>\n",
              "<body>\n",
              "    <div>\n",
              "            <script src=\"https://cdnjs.cloudflare.com/ajax/libs/mathjax/2.7.5/MathJax.js?config=TeX-AMS-MML_SVG\"></script><script type=\"text/javascript\">if (window.MathJax) {MathJax.Hub.Config({SVG: {font: \"STIX-Web\"}});}</script>\n",
              "                <script type=\"text/javascript\">window.PlotlyConfig = {MathJaxConfig: 'local'};</script>\n",
              "        <script src=\"https://cdn.plot.ly/plotly-latest.min.js\"></script>    \n",
              "            <div id=\"bea09679-b33a-4013-b53a-2753b6eee367\" class=\"plotly-graph-div\" style=\"height:525px; width:100%;\"></div>\n",
              "            <script type=\"text/javascript\">\n",
              "                \n",
              "                    window.PLOTLYENV=window.PLOTLYENV || {};\n",
              "                    \n",
              "                if (document.getElementById(\"bea09679-b33a-4013-b53a-2753b6eee367\")) {\n",
              "                    Plotly.newPlot(\n",
              "                        'bea09679-b33a-4013-b53a-2753b6eee367',\n",
              "                        [{\"name\": \"train\", \"type\": \"bar\", \"x\": [\"DRINKS#STYLE&OPTIONS, o\", \"DRINKS#STYLE&OPTIONS, -\", \"DRINKS#QUALITY, o\", \"DRINKS#QUALITY, -\", \"DRINKS#PRICES, -\", \"RESTAURANT#PRICES, -\", \"RESTAURANT#MISCELLANEOUS, o\", \"RESTAURANT#GENERAL, -\", \"RESTAURANT#GENERAL, o\", \"DRINKS#PRICES, o\", \"RESTAURANT#MISCELLANEOUS, -\", \"FOOD#QUALITY, -\", \"DRINKS#PRICES, +\", \"LOCATION#GENERAL, -\", \"RESTAURANT#PRICES, o\", \"SERVICE#GENERAL, o\", \"RESTAURANT#MISCELLANEOUS, +\", \"FOOD#STYLE&OPTIONS, -\", \"DRINKS#QUALITY, +\", \"AMBIENCE#GENERAL, -\", \"DRINKS#STYLE&OPTIONS, +\", \"SERVICE#GENERAL, -\", \"AMBIENCE#GENERAL, o\", \"FOOD#PRICES, -\", \"LOCATION#GENERAL, +\", \"FOOD#STYLE&OPTIONS, o\", \"RESTAURANT#PRICES, +\", \"LOCATION#GENERAL, o\", \"FOOD#QUALITY, o\", \"AMBIENCE#GENERAL, +\", \"FOOD#PRICES, o\", \"SERVICE#GENERAL, +\", \"FOOD#PRICES, +\", \"RESTAURANT#GENERAL, +\", \"FOOD#STYLE&OPTIONS, +\", \"FOOD#QUALITY, +\"], \"y\": [2, 4, 10, 12, 13, 23, 23, 25, 27, 32, 45, 53, 57, 72, 74, 77, 83, 88, 92, 92, 96, 110, 132, 133, 133, 153, 166, 168, 292, 513, 566, 608, 702, 803, 1505, 2313]}, {\"name\": \"dev\", \"type\": \"bar\", \"x\": [\"DRINKS#STYLE&OPTIONS, o\", \"DRINKS#PRICES, -\", \"RESTAURANT#PRICES, -\", \"DRINKS#QUALITY, -\", \"DRINKS#STYLE&OPTIONS, -\", \"DRINKS#QUALITY, o\", \"DRINKS#STYLE&OPTIONS, +\", \"LOCATION#GENERAL, -\", \"RESTAURANT#MISCELLANEOUS, -\", \"RESTAURANT#GENERAL, o\", \"DRINKS#PRICES, o\", \"SERVICE#GENERAL, o\", \"RESTAURANT#PRICES, +\", \"RESTAURANT#GENERAL, -\", \"RESTAURANT#PRICES, o\", \"AMBIENCE#GENERAL, o\", \"LOCATION#GENERAL, +\", \"FOOD#QUALITY, -\", \"DRINKS#PRICES, +\", \"SERVICE#GENERAL, -\", \"DRINKS#QUALITY, +\", \"AMBIENCE#GENERAL, -\", \"FOOD#STYLE&OPTIONS, o\", \"RESTAURANT#MISCELLANEOUS, +\", \"FOOD#PRICES, -\", \"FOOD#STYLE&OPTIONS, -\", \"RESTAURANT#MISCELLANEOUS, o\", \"FOOD#QUALITY, o\", \"LOCATION#GENERAL, o\", \"AMBIENCE#GENERAL, +\", \"SERVICE#GENERAL, +\", \"RESTAURANT#GENERAL, +\", \"FOOD#PRICES, o\", \"FOOD#PRICES, +\", \"FOOD#STYLE&OPTIONS, +\", \"FOOD#QUALITY, +\"], \"y\": [0, 2, 2, 3, 3, 6, 7, 7, 8, 9, 13, 15, 16, 17, 17, 23, 24, 28, 29, 29, 30, 33, 33, 41, 49, 50, 68, 103, 103, 149, 184, 205, 302, 373, 433, 1029]}],\n",
              "                        {\"template\": {\"data\": {\"bar\": [{\"error_x\": {\"color\": \"#2a3f5f\"}, \"error_y\": {\"color\": \"#2a3f5f\"}, \"marker\": {\"line\": {\"color\": \"#E5ECF6\", \"width\": 0.5}}, \"type\": \"bar\"}], \"barpolar\": [{\"marker\": {\"line\": {\"color\": \"#E5ECF6\", \"width\": 0.5}}, \"type\": \"barpolar\"}], \"carpet\": [{\"aaxis\": {\"endlinecolor\": \"#2a3f5f\", \"gridcolor\": \"white\", \"linecolor\": \"white\", \"minorgridcolor\": \"white\", \"startlinecolor\": \"#2a3f5f\"}, \"baxis\": {\"endlinecolor\": \"#2a3f5f\", \"gridcolor\": \"white\", \"linecolor\": \"white\", \"minorgridcolor\": \"white\", \"startlinecolor\": \"#2a3f5f\"}, \"type\": \"carpet\"}], \"choropleth\": [{\"colorbar\": {\"outlinewidth\": 0, \"ticks\": \"\"}, \"type\": \"choropleth\"}], \"contour\": [{\"colorbar\": {\"outlinewidth\": 0, \"ticks\": \"\"}, \"colorscale\": [[0.0, \"#0d0887\"], [0.1111111111111111, \"#46039f\"], [0.2222222222222222, \"#7201a8\"], [0.3333333333333333, \"#9c179e\"], [0.4444444444444444, \"#bd3786\"], [0.5555555555555556, \"#d8576b\"], [0.6666666666666666, \"#ed7953\"], [0.7777777777777778, \"#fb9f3a\"], [0.8888888888888888, \"#fdca26\"], [1.0, \"#f0f921\"]], \"type\": \"contour\"}], \"contourcarpet\": [{\"colorbar\": {\"outlinewidth\": 0, \"ticks\": \"\"}, \"type\": \"contourcarpet\"}], \"heatmap\": [{\"colorbar\": {\"outlinewidth\": 0, \"ticks\": \"\"}, \"colorscale\": [[0.0, \"#0d0887\"], [0.1111111111111111, \"#46039f\"], [0.2222222222222222, \"#7201a8\"], [0.3333333333333333, \"#9c179e\"], [0.4444444444444444, \"#bd3786\"], [0.5555555555555556, \"#d8576b\"], [0.6666666666666666, \"#ed7953\"], [0.7777777777777778, \"#fb9f3a\"], [0.8888888888888888, \"#fdca26\"], [1.0, \"#f0f921\"]], \"type\": \"heatmap\"}], \"heatmapgl\": [{\"colorbar\": {\"outlinewidth\": 0, \"ticks\": \"\"}, \"colorscale\": [[0.0, \"#0d0887\"], [0.1111111111111111, \"#46039f\"], [0.2222222222222222, \"#7201a8\"], [0.3333333333333333, \"#9c179e\"], [0.4444444444444444, \"#bd3786\"], [0.5555555555555556, \"#d8576b\"], [0.6666666666666666, \"#ed7953\"], [0.7777777777777778, \"#fb9f3a\"], [0.8888888888888888, \"#fdca26\"], [1.0, \"#f0f921\"]], \"type\": \"heatmapgl\"}], \"histogram\": [{\"marker\": {\"colorbar\": {\"outlinewidth\": 0, \"ticks\": \"\"}}, \"type\": \"histogram\"}], \"histogram2d\": [{\"colorbar\": {\"outlinewidth\": 0, \"ticks\": \"\"}, \"colorscale\": [[0.0, \"#0d0887\"], [0.1111111111111111, \"#46039f\"], [0.2222222222222222, \"#7201a8\"], [0.3333333333333333, \"#9c179e\"], [0.4444444444444444, \"#bd3786\"], [0.5555555555555556, \"#d8576b\"], [0.6666666666666666, \"#ed7953\"], [0.7777777777777778, \"#fb9f3a\"], [0.8888888888888888, \"#fdca26\"], [1.0, \"#f0f921\"]], \"type\": \"histogram2d\"}], \"histogram2dcontour\": [{\"colorbar\": {\"outlinewidth\": 0, \"ticks\": \"\"}, \"colorscale\": [[0.0, \"#0d0887\"], [0.1111111111111111, \"#46039f\"], [0.2222222222222222, \"#7201a8\"], [0.3333333333333333, \"#9c179e\"], [0.4444444444444444, \"#bd3786\"], [0.5555555555555556, \"#d8576b\"], [0.6666666666666666, \"#ed7953\"], [0.7777777777777778, \"#fb9f3a\"], [0.8888888888888888, \"#fdca26\"], [1.0, \"#f0f921\"]], \"type\": \"histogram2dcontour\"}], \"mesh3d\": [{\"colorbar\": {\"outlinewidth\": 0, \"ticks\": \"\"}, \"type\": \"mesh3d\"}], \"parcoords\": [{\"line\": {\"colorbar\": {\"outlinewidth\": 0, \"ticks\": \"\"}}, \"type\": \"parcoords\"}], \"pie\": [{\"automargin\": true, \"type\": \"pie\"}], \"scatter\": [{\"marker\": {\"colorbar\": {\"outlinewidth\": 0, \"ticks\": \"\"}}, \"type\": \"scatter\"}], \"scatter3d\": [{\"line\": {\"colorbar\": {\"outlinewidth\": 0, \"ticks\": \"\"}}, \"marker\": {\"colorbar\": {\"outlinewidth\": 0, \"ticks\": \"\"}}, \"type\": \"scatter3d\"}], \"scattercarpet\": [{\"marker\": {\"colorbar\": {\"outlinewidth\": 0, \"ticks\": \"\"}}, \"type\": \"scattercarpet\"}], \"scattergeo\": [{\"marker\": {\"colorbar\": {\"outlinewidth\": 0, \"ticks\": \"\"}}, \"type\": \"scattergeo\"}], \"scattergl\": [{\"marker\": {\"colorbar\": {\"outlinewidth\": 0, \"ticks\": \"\"}}, \"type\": \"scattergl\"}], \"scattermapbox\": [{\"marker\": {\"colorbar\": {\"outlinewidth\": 0, \"ticks\": \"\"}}, \"type\": \"scattermapbox\"}], \"scatterpolar\": [{\"marker\": {\"colorbar\": {\"outlinewidth\": 0, \"ticks\": \"\"}}, \"type\": \"scatterpolar\"}], \"scatterpolargl\": [{\"marker\": {\"colorbar\": {\"outlinewidth\": 0, \"ticks\": \"\"}}, \"type\": \"scatterpolargl\"}], \"scatterternary\": [{\"marker\": {\"colorbar\": {\"outlinewidth\": 0, \"ticks\": \"\"}}, \"type\": \"scatterternary\"}], \"surface\": [{\"colorbar\": {\"outlinewidth\": 0, \"ticks\": \"\"}, \"colorscale\": [[0.0, \"#0d0887\"], [0.1111111111111111, \"#46039f\"], [0.2222222222222222, \"#7201a8\"], [0.3333333333333333, \"#9c179e\"], [0.4444444444444444, \"#bd3786\"], [0.5555555555555556, \"#d8576b\"], [0.6666666666666666, \"#ed7953\"], [0.7777777777777778, \"#fb9f3a\"], [0.8888888888888888, \"#fdca26\"], [1.0, \"#f0f921\"]], \"type\": \"surface\"}], \"table\": [{\"cells\": {\"fill\": {\"color\": \"#EBF0F8\"}, \"line\": {\"color\": \"white\"}}, \"header\": {\"fill\": {\"color\": \"#C8D4E3\"}, \"line\": {\"color\": \"white\"}}, \"type\": \"table\"}]}, \"layout\": {\"annotationdefaults\": {\"arrowcolor\": \"#2a3f5f\", \"arrowhead\": 0, \"arrowwidth\": 1}, \"coloraxis\": {\"colorbar\": {\"outlinewidth\": 0, \"ticks\": \"\"}}, \"colorscale\": {\"diverging\": [[0, \"#8e0152\"], [0.1, \"#c51b7d\"], [0.2, \"#de77ae\"], [0.3, \"#f1b6da\"], [0.4, \"#fde0ef\"], [0.5, \"#f7f7f7\"], [0.6, \"#e6f5d0\"], [0.7, \"#b8e186\"], [0.8, \"#7fbc41\"], [0.9, \"#4d9221\"], [1, \"#276419\"]], \"sequential\": [[0.0, \"#0d0887\"], [0.1111111111111111, \"#46039f\"], [0.2222222222222222, \"#7201a8\"], [0.3333333333333333, \"#9c179e\"], [0.4444444444444444, \"#bd3786\"], [0.5555555555555556, \"#d8576b\"], [0.6666666666666666, \"#ed7953\"], [0.7777777777777778, \"#fb9f3a\"], [0.8888888888888888, \"#fdca26\"], [1.0, \"#f0f921\"]], \"sequentialminus\": [[0.0, \"#0d0887\"], [0.1111111111111111, \"#46039f\"], [0.2222222222222222, \"#7201a8\"], [0.3333333333333333, \"#9c179e\"], [0.4444444444444444, \"#bd3786\"], [0.5555555555555556, \"#d8576b\"], [0.6666666666666666, \"#ed7953\"], [0.7777777777777778, \"#fb9f3a\"], [0.8888888888888888, \"#fdca26\"], [1.0, \"#f0f921\"]]}, \"colorway\": [\"#636efa\", \"#EF553B\", \"#00cc96\", \"#ab63fa\", \"#FFA15A\", \"#19d3f3\", \"#FF6692\", \"#B6E880\", \"#FF97FF\", \"#FECB52\"], \"font\": {\"color\": \"#2a3f5f\"}, \"geo\": {\"bgcolor\": \"white\", \"lakecolor\": \"white\", \"landcolor\": \"#E5ECF6\", \"showlakes\": true, \"showland\": true, \"subunitcolor\": \"white\"}, \"hoverlabel\": {\"align\": \"left\"}, \"hovermode\": \"closest\", \"mapbox\": {\"style\": \"light\"}, \"paper_bgcolor\": \"white\", \"plot_bgcolor\": \"#E5ECF6\", \"polar\": {\"angularaxis\": {\"gridcolor\": \"white\", \"linecolor\": \"white\", \"ticks\": \"\"}, \"bgcolor\": \"#E5ECF6\", \"radialaxis\": {\"gridcolor\": \"white\", \"linecolor\": \"white\", \"ticks\": \"\"}}, \"scene\": {\"xaxis\": {\"backgroundcolor\": \"#E5ECF6\", \"gridcolor\": \"white\", \"gridwidth\": 2, \"linecolor\": \"white\", \"showbackground\": true, \"ticks\": \"\", \"zerolinecolor\": \"white\"}, \"yaxis\": {\"backgroundcolor\": \"#E5ECF6\", \"gridcolor\": \"white\", \"gridwidth\": 2, \"linecolor\": \"white\", \"showbackground\": true, \"ticks\": \"\", \"zerolinecolor\": \"white\"}, \"zaxis\": {\"backgroundcolor\": \"#E5ECF6\", \"gridcolor\": \"white\", \"gridwidth\": 2, \"linecolor\": \"white\", \"showbackground\": true, \"ticks\": \"\", \"zerolinecolor\": \"white\"}}, \"shapedefaults\": {\"line\": {\"color\": \"#2a3f5f\"}}, \"ternary\": {\"aaxis\": {\"gridcolor\": \"white\", \"linecolor\": \"white\", \"ticks\": \"\"}, \"baxis\": {\"gridcolor\": \"white\", \"linecolor\": \"white\", \"ticks\": \"\"}, \"bgcolor\": \"#E5ECF6\", \"caxis\": {\"gridcolor\": \"white\", \"linecolor\": \"white\", \"ticks\": \"\"}}, \"title\": {\"x\": 0.05}, \"xaxis\": {\"automargin\": true, \"gridcolor\": \"white\", \"linecolor\": \"white\", \"ticks\": \"\", \"title\": {\"standoff\": 15}, \"zerolinecolor\": \"white\", \"zerolinewidth\": 2}, \"yaxis\": {\"automargin\": true, \"gridcolor\": \"white\", \"linecolor\": \"white\", \"ticks\": \"\", \"title\": {\"standoff\": 15}, \"zerolinecolor\": \"white\", \"zerolinewidth\": 2}}}, \"xaxis\": {\"tickangle\": 90}},\n",
              "                        {\"responsive\": true}\n",
              "                    ).then(function(){\n",
              "                            \n",
              "var gd = document.getElementById('bea09679-b33a-4013-b53a-2753b6eee367');\n",
              "var x = new MutationObserver(function (mutations, observer) {{\n",
              "        var display = window.getComputedStyle(gd).display;\n",
              "        if (!display || display === 'none') {{\n",
              "            console.log([gd, 'removed!']);\n",
              "            Plotly.purge(gd);\n",
              "            observer.disconnect();\n",
              "        }}\n",
              "}});\n",
              "\n",
              "// Listen for the removal of the full notebook cells\n",
              "var notebookContainer = gd.closest('#notebook-container');\n",
              "if (notebookContainer) {{\n",
              "    x.observe(notebookContainer, {childList: true});\n",
              "}}\n",
              "\n",
              "// Listen for the clearing of the current output cell\n",
              "var outputEl = gd.closest('.output');\n",
              "if (outputEl) {{\n",
              "    x.observe(outputEl, {childList: true});\n",
              "}}\n",
              "\n",
              "                        })\n",
              "                };\n",
              "                \n",
              "            </script>\n",
              "        </div>\n",
              "</body>\n",
              "</html>"
            ]
          },
          "metadata": {}
        }
      ]
    },
    {
      "cell_type": "markdown",
      "metadata": {
        "id": "nMerFMQJYLKY"
      },
      "source": [
        "# Preprocessing"
      ]
    },
    {
      "cell_type": "markdown",
      "metadata": {
        "cell_id": "00006-8a7653d4-a0fe-4a4d-87d9-2d9820f5f4b7",
        "deepnote_cell_type": "markdown",
        "id": "DOGhg4iUPraw",
        "tags": []
      },
      "source": [
        "## Text Cleanup"
      ]
    },
    {
      "cell_type": "code",
      "metadata": {
        "cell_id": "00003-c74a2f8e-bc89-467a-85c2-abee6f93cd4f",
        "deepnote_cell_type": "code",
        "deepnote_to_be_reexecuted": false,
        "execution_millis": 1175,
        "execution_start": 1636288345626,
        "id": "ipXDgXJ5Pray",
        "source_hash": "e9c1ba90",
        "tags": [],
        "colab": {
          "base_uri": "https://localhost:8080/"
        },
        "outputId": "4ed26edc-7955-4104-e0c9-fecea8ca6766"
      },
      "source": [
        "import re\n",
        "import emoji\n",
        "from flashtext import KeywordProcessor\n",
        "from sklearn.base import BaseEstimator, TransformerMixin\n",
        "\n",
        "\n",
        "class TextCleanup(BaseEstimator, TransformerMixin):\n",
        "    def __init__(self, num_step=range(5)):\n",
        "        super().__init__()\n",
        "        self.num_step = num_step\n",
        "\n",
        "        self.re_emoji = emoji.get_emoji_regexp()\n",
        "        self.re_hagtag = re.compile('#\\S+')\n",
        "        self.re_giatien = re.compile('((?:(?:\\d+[,\\.]?)+) ?(?:k|vnd|d|đ|củ))')\n",
        "        self.re_special_chars = re.compile('[@!#$&^*%<>?/=+`]')\n",
        "\n",
        "        self.kp = KeywordProcessor(case_sensitive=True)\n",
        "        rules = {\n",
        "            \"òa\": [\"oà\"], \"óa\": [\"oá\"], \"ỏa\": [\"oả\"], \"õa\": [\"oã\"], \"ọa\": [\"oạ\"],\n",
        "            \"òe\": [\"oè\"], \"óe\": [\"oé\"], \"ỏe\": [\"oẻ\"], \"õe\": [\"oẽ\"], \"ọe\":[\"oẹ\"],\n",
        "            \"ùy\": [\"uỳ\"], \"úy\": [\"uý\"], \"ủy\": [\"uỷ\"], \"ũy\": [\"uỹ\"], \"ụy\":[\"uỵ\"],\n",
        "            \"ùa\": [\"uà\"], \"úa\": [\"uá\"], \"ủa\": [\"uả\"], \"ũa\": [\"uã\"], \"ụa\":[\"uạ\"],\n",
        "            \"không\": [\"k\", \"K\", \"hong\", \"ko\", \"Ko\", \"Khong\", \"khong\"],\n",
        "            \"công ty\": [\"công ti\"],\n",
        "            \"lý\": [\"lí\"],\n",
        "            \"xảy\": [\"xẩy\"],\n",
        "            \"bảy\": [\"bẩy\"],\n",
        "            \"gãy\": [\"gẫy\"]\n",
        "        }\n",
        "        self.kp.add_keywords_from_dict(rules)\n",
        "\n",
        "    def step0(self, text):\n",
        "        \"\"\"Thay #lozi, #blabla thành hag_tag.\"\"\"\n",
        "        return self.re_hagtag.sub('hag_tag', text)\n",
        "\n",
        "    def step1(self, text):\n",
        "        \"\"\"Thay 100k, 200d thành ' giá_tiền '.\"\"\"\n",
        "        return self.re_giatien.sub('giá_tiền', text)\n",
        "\n",
        "    def step2(self, text):\n",
        "        \"\"\"Xóa kí tự đặc biệt.\"\"\"\n",
        "        return self.re_special_chars.sub('', text)\n",
        "\n",
        "    def step3(self, text):\n",
        "        \"\"\"Xóa emoji 🍿.\"\"\"\n",
        "        return self.re_emoji.sub('', text)\n",
        "\n",
        "    def step4(self, text):\n",
        "        \"\"\"Sửa lỗi chính tả\n",
        "\n",
        "        Đổi các từ phủ định sau: khong, ko, k… thành 'không'.\n",
        "        Sửa oà, uý thành òa, úy\n",
        "        \"\"\"\n",
        "        return self.kp.replace_keywords(text)\n",
        "\n",
        "    def fit(self, X, y=None):\n",
        "        return self\n",
        "\n",
        "    def transform(self, X):\n",
        "        result = np.empty_like(X)\n",
        "\n",
        "        steps = np.array([self.step0,\n",
        "                          self.step1,\n",
        "                          self.step2,\n",
        "                          self.step3,\n",
        "                          self.step4])\n",
        "\n",
        "        for i, text in enumerate(X):\n",
        "            for step in steps[self.num_step]:\n",
        "                text = step(text)\n",
        "            result[i] = text\n",
        "\n",
        "        return result\n",
        "\n",
        "\n",
        "texts = ['K khí trong lành. đồ ăn hong ngon, thức uống  K tồi; 🥙🌮',\n",
        "         'khung cảnh xinh đẹp',\n",
        "         '200k quá mắc',\n",
        "         'món ăn này mắc quá tới 200k lận. ngày 23/3/2000 😴',\n",
        "         'mua 100.000vnd',\n",
        "         'bán 1,000,000 d. 5 cái bành xèo tốn 500k',\n",
        "         'bán 1.000.000 d. 5 cái bành xèo tốn 500k %^^4',\n",
        "         'món ăn này có giá 10 lít',\n",
        "         'món ăn này tận 1 củ',\n",
        "         'bán 1.000đ',\n",
        "         'quán này có giá trung bình từ 100k-200k 😛',\n",
        "         'quán này có giá trung bình từ 100-200k 😫',\n",
        "         '#mắc #food',\n",
        "         'bàn ghế sạch đẹp, thái độ nhân viên ok#restaurant 😍',\n",
        "         '#tiktok ở nhà vẫn vui',\n",
        "         '# birthday ngày mai có tiệc ^^',\n",
        "         'aslkdhlakd#tiktok#learn asljdalskjd',\n",
        "         '#tiktok   #learn',\n",
        "         '#hastag alskjdlasjd #hastag asdsadas #hastag 😁',\n",
        "         '#123&456',\n",
        "         '#!?@!']\n",
        "\n",
        "cleaner = TextCleanup()\n",
        "cleaner.fit_transform(texts)"
      ],
      "execution_count": null,
      "outputs": [
        {
          "output_type": "execute_result",
          "data": {
            "text/plain": [
              "array(['không khí trong lành. đồ ăn không ngon, thức uống  khôn',\n",
              "       'khung cảnh xinh đẹp', 'giá_tiền quá mắc',\n",
              "       'món ăn này mắc quá tới giá_tiền lận. ngày 2332000 ',\n",
              "       'mua giá_tiền', 'bán giá_tiền. 5 cái bành xèo tốn giá_tiền',\n",
              "       'bán giá_tiền. 5 cái bành xèo tốn giá_tiền 4',\n",
              "       'món ăn này có giá 10 lít', 'món ăn này tận giá_tiền',\n",
              "       'bán giá_tiền', 'quán này có giá trung bình từ giá_tiền-giá_tiền ',\n",
              "       'quán này có giá trung bình từ 100-giá_tiền ', 'hag_tag hag_tag',\n",
              "       'bàn ghế sạch đẹp, thái độ nhân viên okhag_tag ',\n",
              "       'hag_tag ở nhà vẫn vui', ' birthday ngày mai có tiệc ',\n",
              "       'aslkdhlakdhag_tag asljdalskjd', 'hag_tag   hag_tag',\n",
              "       'hag_tag alskjdlasjd hag_tag asdsadas hag_tag ', 'hag_tag',\n",
              "       'hag_tag'], dtype='<U55')"
            ]
          },
          "metadata": {},
          "execution_count": 27
        }
      ]
    },
    {
      "cell_type": "markdown",
      "metadata": {
        "cell_id": "00008-3e35d1d6-b9cd-4dc2-a45e-ccf833534cd9",
        "deepnote_cell_type": "markdown",
        "id": "ppKYl2LZPra0",
        "tags": []
      },
      "source": [
        "# Models"
      ]
    },
    {
      "cell_type": "code",
      "metadata": {
        "id": "30FSxRFlHwiF"
      },
      "source": [
        "from underthesea import word_tokenize, pos_tag\n",
        "\n",
        "from sklearn.svm import LinearSVC\n",
        "from sklearn.pipeline import make_pipeline\n",
        "from sklearn.ensemble import RandomForestClassifier\n",
        "from sklearn.multioutput import MultiOutputClassifier\n",
        "from sklearn.feature_extraction.text import TfidfVectorizer"
      ],
      "execution_count": null,
      "outputs": []
    },
    {
      "cell_type": "code",
      "metadata": {
        "cell_id": "00010-7ce90a23-0f45-4247-baed-e58098dd73c8",
        "deepnote_cell_type": "code",
        "deepnote_to_be_reexecuted": false,
        "execution_millis": 25564,
        "execution_start": 1636288350249,
        "id": "NkMnAcaMPra2",
        "source_hash": "aeeeb532",
        "tags": []
      },
      "source": [
        "# Base Random Forest\n",
        "model0 = make_pipeline(TextCleanup(range(4)),\n",
        "                       TfidfVectorizer(),\n",
        "                       RandomForestClassifier(random_state=18))\n",
        "\n",
        "\n",
        "# Random Forest\n",
        "model1 = make_pipeline(TextCleanup(),\n",
        "                       TfidfVectorizer(ngram_range=(1, 3)),\n",
        "                       RandomForestClassifier(random_state=18))\n",
        "\n",
        "\n",
        "model2 = make_pipeline(TextCleanup(),\n",
        "                       TfidfVectorizer(analyzer=word_tokenize),\n",
        "                       RandomForestClassifier(random_state=18))\n",
        "\n",
        "\n",
        "model3 = make_pipeline(TextCleanup(),\n",
        "                       TfidfVectorizer(tokenizer=word_tokenize,\n",
        "                                         ngram_range=(1, 2)),\n",
        "                       RandomForestClassifier(random_state=18))\n",
        "\n",
        "\n",
        "# SVM\n",
        "model4 = make_pipeline(TextCleanup(),\n",
        "                       TfidfVectorizer(ngram_range=(1, 3)),\n",
        "                       MultiOutputClassifier(LinearSVC(random_state=18)))\n",
        "\n",
        "\n",
        "model5 = make_pipeline(TextCleanup(),\n",
        "                       TfidfVectorizer(analyzer=word_tokenize),\n",
        "                       MultiOutputClassifier(LinearSVC(random_state=18)))\n",
        "\n",
        "\n",
        "model6 = make_pipeline(TextCleanup(),\n",
        "                       TfidfVectorizer(tokenizer=word_tokenize,\n",
        "                                         ngram_range=(1, 2)),\n",
        "                       MultiOutputClassifier(LinearSVC(random_state=18)))\n",
        "\n",
        "\n",
        "model7 = make_pipeline(TextCleanup(),\n",
        "                       TfidfVectorizer(ngram_range=(1, 3),\n",
        "                                         min_df=2, max_df=0.8,\n",
        "                                         max_features=1500),\n",
        "                       MultiOutputClassifier(LinearSVC(random_state=18)))\n",
        "\n",
        "model8 = make_pipeline(TextCleanup(),\n",
        "                       TfidfVectorizer(analyzer=pos_tag,\n",
        "                                       min_df=2, max_df=0.9,\n",
        "                                       max_features=1200),\n",
        "                       MultiOutputClassifier(LinearSVC(random_state=18)))\n",
        "\n",
        "\n",
        "models = (model0, model1, model2, model3, model4, model5, model6, model7, model8)"
      ],
      "execution_count": null,
      "outputs": []
    },
    {
      "cell_type": "code",
      "metadata": {
        "id": "XyYW1rvlaTr8"
      },
      "source": [
        "from sklearn.pipeline import make_union\n",
        "from sklearn.multioutput"
      ],
      "execution_count": null,
      "outputs": []
    },
    {
      "cell_type": "code",
      "metadata": {
        "id": "95no9Y_gLaTO"
      },
      "source": [
        "class MultiStage(BaseEstimator, ClassifierMixin):\n",
        "    def __init__(self):\n",
        "        super().__init__()\n",
        "        \n",
        "        self.phaseA = make_pipeline(\n",
        "            TextCleanup(),\n",
        "            make_union(TfifdVectorizer(),\n",
        "                       TfidfVectorizer()),\n",
        "            ClassifierChain(LinearSVC(random_state=5))\n",
        "        )\n",
        "        self.phaseB = 0\n",
        "\n",
        "    def fit(self, X, y):\n",
        "        y_phaseA = y != 0\n",
        "        self.phaseA.fit(X, y_phaseA)\n",
        "        self.phaseB.fit(X, y_phaseB)\n",
        "        return self\n",
        "\n",
        "    def predict(self, X):\n",
        "        self.phaseA.predict(X)\n",
        "        return self.phaseB.predict(X)"
      ],
      "execution_count": null,
      "outputs": []
    },
    {
      "cell_type": "markdown",
      "metadata": {
        "cell_id": "00011-0d327c11-f739-49f4-b198-560e8b9d6e52",
        "deepnote_cell_type": "markdown",
        "id": "J7cEYevzPrbB",
        "tags": []
      },
      "source": [
        "# Evaluation"
      ]
    },
    {
      "cell_type": "markdown",
      "metadata": {
        "cell_id": "00010-eff12a6a-5a41-4f93-a126-304521a74a6b",
        "deepnote_cell_type": "markdown",
        "id": "ifpwSTzePrbB",
        "tags": []
      },
      "source": [
        "## Custom Evaluation Tool"
      ]
    },
    {
      "cell_type": "code",
      "metadata": {
        "cell_id": "00012-b9bff05c-e4c5-4a22-92c9-26127c0e1dbe",
        "deepnote_cell_type": "code",
        "deepnote_to_be_reexecuted": false,
        "execution_millis": 13,
        "execution_start": 1636288670125,
        "id": "zc6q7dDlPrbC",
        "source_hash": "1509ca9f",
        "tags": []
      },
      "source": [
        "from tqdm.autonotebook import tqdm\n",
        "from sklearn.metrics import f1_score\n",
        "from sklearn.utils.validation import check_is_fitted\n",
        "\n",
        "\n",
        "def multioutput_to_multilabel(y):\n",
        "    if isinstance(y, pd.DataFrame): \n",
        "        y = y.values\n",
        "    nrow = y.shape[0]\n",
        "    ncol = y.shape[1]\n",
        "    multilabel = np.zeros((nrow, 3 * ncol), dtype=bool)\n",
        "    for i in range(nrow):\n",
        "        for j in range(ncol):\n",
        "            if y[i, j] != 0:\n",
        "                pos = j * 3 + (y[i, j] - 1)\n",
        "                multilabel[i, pos] = True\n",
        "    return multilabel\n",
        "\n",
        "\n",
        "def evaluate_full_models(X_train, y_train, X_test, y_test,\n",
        "                         models, average='micro', **kwargs):\n",
        "    y_test = multioutput_to_multilabel(y_test)\n",
        "    result = dict()\n",
        "\n",
        "    for i, model in enumerate(tqdm(models)):\n",
        "        try: check_is_fitted(model)\n",
        "        except: model.fit(X_train, y_train)\n",
        "\n",
        "        y_pred = model.predict(X_test)\n",
        "        y_pred = multioutput_to_multilabel(y_pred)\n",
        "\n",
        "        score = f1_score(y_test, y_pred, average=average, **kwargs)\n",
        "        result[f'model{i}'] = round(score*100, 2)\n",
        "\n",
        "    return pd.Series(result)"
      ],
      "execution_count": null,
      "outputs": []
    },
    {
      "cell_type": "markdown",
      "metadata": {
        "id": "pEZF7oacl8H4"
      },
      "source": [
        "### Evaluate on dev"
      ]
    },
    {
      "cell_type": "code",
      "metadata": {
        "colab": {
          "base_uri": "https://localhost:8080/",
          "height": 219,
          "referenced_widgets": [
            "b09acdaba6804c60914d7f3e58eb4b77",
            "117187f473ac41e48f1ba62ae6996109",
            "c2b82ea7f1c14a409f014915fe96e23d",
            "bbda48a5379a469f8e395e10d7de578e",
            "c04008efa25f40fca8e34fb4d4ae6ec5",
            "325b7d0fa0c643fcbe6d977bc0553ec5",
            "773ab6e357f942fbab530510a6e19310",
            "3103bcfeac4d490b91cbc9a1ae76ba3d",
            "adb577814bc54f4188104854b49c1304",
            "7c87c3b55b19496282f29fb1eab58483",
            "a25d19dc99ac436591a0dc185204326c"
          ]
        },
        "id": "-t-HQiHMh86w",
        "outputId": "b1452b62-3dc9-4086-9b9c-d6ff958ec17e"
      },
      "source": [
        "result_micro = evaluate_full_models(X_train, y_train, X_dev, y_dev, models)\n",
        "result_micro"
      ],
      "execution_count": null,
      "outputs": [
        {
          "output_type": "display_data",
          "data": {
            "application/vnd.jupyter.widget-view+json": {
              "model_id": "b09acdaba6804c60914d7f3e58eb4b77",
              "version_minor": 0,
              "version_major": 2
            },
            "text/plain": [
              "  0%|          | 0/9 [00:00<?, ?it/s]"
            ]
          },
          "metadata": {}
        },
        {
          "output_type": "execute_result",
          "data": {
            "text/plain": [
              "model0    59.84\n",
              "model1    56.63\n",
              "model2    57.04\n",
              "model3    56.41\n",
              "model4    65.83\n",
              "model5    64.52\n",
              "model6    65.69\n",
              "model7    66.25\n",
              "model8    64.14\n",
              "dtype: float64"
            ]
          },
          "metadata": {},
          "execution_count": 35
        }
      ]
    },
    {
      "cell_type": "code",
      "metadata": {
        "colab": {
          "base_uri": "https://localhost:8080/",
          "height": 219,
          "referenced_widgets": [
            "7a28821521074b4fa61d5b8b2e33aad6",
            "35ce336acd4b40e1ac0a6b77676835db",
            "3d27a9931bb94637ae6ae932b92bc8ac",
            "10467736dce44ae1b1bec49107335a0f",
            "92669d63afd34d52a45cf45d19ffcaed",
            "69013f5b1c034738a6a7adcdf46af8f9",
            "ac2014112d764960bdaa4f18a027dbcd",
            "4c3f94fa05f94368b8c470bb32bdcda6",
            "f479bc5570fe4356b97e06ebd2783a48",
            "8ebe41f789d64bdbae5a876e7424629a",
            "fc05bf6296f64347adf984fc593c09cd"
          ]
        },
        "id": "Mho3hu2ByE_V",
        "outputId": "895768b8-c655-4169-908f-524215eff201"
      },
      "source": [
        "result_macro = evaluate_full_models(X_train, y_train, X_dev, y_dev, models, \n",
        "                                    average='macro', zero_division=0)\n",
        "result_macro"
      ],
      "execution_count": null,
      "outputs": [
        {
          "output_type": "display_data",
          "data": {
            "application/vnd.jupyter.widget-view+json": {
              "model_id": "7a28821521074b4fa61d5b8b2e33aad6",
              "version_minor": 0,
              "version_major": 2
            },
            "text/plain": [
              "  0%|          | 0/9 [00:00<?, ?it/s]"
            ]
          },
          "metadata": {}
        },
        {
          "output_type": "execute_result",
          "data": {
            "text/plain": [
              "model0    12.63\n",
              "model1    10.97\n",
              "model2    10.92\n",
              "model3    10.76\n",
              "model4    19.63\n",
              "model5    21.70\n",
              "model6    20.63\n",
              "model7    25.56\n",
              "model8    24.26\n",
              "dtype: float64"
            ]
          },
          "metadata": {},
          "execution_count": 36
        }
      ]
    },
    {
      "cell_type": "markdown",
      "metadata": {
        "id": "HxE2XTNvnvKY"
      },
      "source": [
        "### Evaluate on test"
      ]
    },
    {
      "cell_type": "markdown",
      "metadata": {
        "cell_id": "00012-e478f5bc-5382-462f-83c4-ad5794d91db2",
        "deepnote_cell_type": "markdown",
        "deepnote_to_be_reexecuted": false,
        "execution_millis": 8,
        "execution_start": 1636200934827,
        "id": "Ffj1A2x4PrbE",
        "source_hash": "baafe620",
        "tags": []
      },
      "source": [
        "## Official Evaluation Tool"
      ]
    },
    {
      "cell_type": "code",
      "metadata": {
        "cell_id": "00013-5d2c09b4-69b0-43fa-8f25-96be0e915970",
        "deepnote_cell_type": "code",
        "deepnote_to_be_reexecuted": false,
        "execution_millis": 73,
        "execution_start": 1636288684391,
        "id": "wJ2WOA_XPrbF",
        "source_hash": "2185a5d1",
        "tags": []
      },
      "source": [
        "import json\n",
        "\n",
        "\n",
        "sentiments = [None, 'negative', 'neutral', 'positive']\n",
        "\n",
        "with open(data_dir/'aspects.json') as f:\n",
        "    aspects = json.load(f)\n",
        "\n",
        "\n",
        "def label_decoder(encoded_label):\n",
        "    label = []\n",
        "    for ap_idx, stm_idx in enumerate(encoded_label):\n",
        "        if stm_idx != 0:\n",
        "            aspect = aspects[ap_idx]\n",
        "            sentiment = sentiments[stm_idx]\n",
        "            label.append(f'{{{aspect}, {sentiment}}}')\n",
        "\n",
        "    return ', '.join(label)\n",
        "\n",
        "\n",
        "def save_result(X, y, save_path):\n",
        "    rows = []\n",
        "    for test_id, (review, encoded_label) in enumerate(zip(X, y), 1):\n",
        "        label = label_decoder(encoded_label)\n",
        "        rows.extend((f'#{test_id}', review, label, ''))\n",
        "\n",
        "    text = '\\n'.join(rows[:-1])\n",
        "    with open(save_path, mode='w', encoding='utf-8-sig') as output_file:\n",
        "        output_file.write(text)\n",
        "\n",
        "    \n",
        "def evaluate(model, X, y_true_path, y_pred_path):\n",
        "    y = model.predict(X)\n",
        "    save_result(X, y, y_pred_path)\n",
        "    !java SAEvaluate.java {y_true_path} {y_pred_path}"
      ],
      "execution_count": null,
      "outputs": []
    },
    {
      "cell_type": "markdown",
      "metadata": {
        "cell_id": "00014-73adb552-5932-4494-aa81-57e9018cd738",
        "deepnote_cell_type": "markdown",
        "id": "GLy41eh-PrbH",
        "tags": []
      },
      "source": [
        "### Evaluate on dev"
      ]
    },
    {
      "cell_type": "code",
      "metadata": {
        "cell_id": "00014-d4511775-1ad8-436a-a04f-7c11969e4518",
        "deepnote_cell_type": "code",
        "deepnote_to_be_reexecuted": false,
        "execution_millis": 10726,
        "execution_start": 1636288954126,
        "id": "PfYq6S_vPrbH",
        "output_cleared": false,
        "source_hash": "6b47192d",
        "tags": []
      },
      "source": [
        "evaluate(model0, X_dev, \"y_dev.txt\", \"y_pred_model0.txt\")"
      ],
      "execution_count": null,
      "outputs": []
    },
    {
      "cell_type": "code",
      "metadata": {
        "cell_id": "00020-09be1094-d5fa-4b4d-a0b5-d0905683bc56",
        "deepnote_cell_type": "code",
        "deepnote_to_be_reexecuted": false,
        "execution_millis": 10764,
        "execution_start": 1636288964905,
        "id": "kWZAmBpKPrbI",
        "source_hash": "6015e1b7",
        "tags": []
      },
      "source": [
        "evaluate(model1, X_dev, \"y_dev.txt\", \"y_pred_model1.txt\")"
      ],
      "execution_count": null,
      "outputs": []
    },
    {
      "cell_type": "code",
      "metadata": {
        "id": "V48odsLo_jxE"
      },
      "source": [
        "evaluate(model2, X_dev, \"y_dev.txt\", \"y_pred_model2.txt\")"
      ],
      "execution_count": null,
      "outputs": []
    },
    {
      "cell_type": "markdown",
      "metadata": {
        "cell_id": "00016-6b19a07e-8e2a-4155-b0a8-1f24e0f31aac",
        "deepnote_cell_type": "markdown",
        "deepnote_to_be_reexecuted": false,
        "execution_millis": 7,
        "execution_start": 1636200994481,
        "id": "PGOJ0-nSPrbI",
        "source_hash": "153eeadb",
        "tags": []
      },
      "source": [
        "### Evaluate on test"
      ]
    },
    {
      "cell_type": "markdown",
      "metadata": {
        "id": "1mLxD33gt3tH"
      },
      "source": [
        "# Draft"
      ]
    },
    {
      "cell_type": "code",
      "metadata": {
        "id": "7vOYbrYIAFjU"
      },
      "source": [
        ""
      ],
      "execution_count": null,
      "outputs": []
    }
  ]
}