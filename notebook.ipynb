{
 "cells": [
  {
   "cell_type": "markdown",
   "source": "# Read data",
   "metadata": {
    "tags": [],
    "cell_id": "00001-73dc905a-f8e8-4f5a-b542-50a626b67551",
    "deepnote_cell_type": "markdown"
   }
  },
  {
   "cell_type": "code",
   "metadata": {
    "tags": [],
    "cell_id": "00000-d1f2d812-aabe-4dfd-9477-93be642302e1",
    "deepnote_to_be_reexecuted": false,
    "source_hash": "1fdd19ce",
    "execution_start": 1636288255576,
    "execution_millis": 304,
    "deepnote_cell_type": "code"
   },
   "source": "import numpy as np\nimport pandas as pd\nfrom pathlib import Path\n\n\ndata_dir  = Path('/work/CS221.M11.KHCL-Aspect-Based-Sentiment-Analysis/data/csv')\n\ntrain_fp  = data_dir/'train.csv'\ndev_fp    = data_dir/'dev.csv'\ntest_fp   = data_dir/'test.csv'\n\n\ndef read_csv(csv_path):\n    assert csv_path.is_file()\n    df = pd.read_csv(csv_path)\n\n    X = df.pop('review')\n    y = df.replace({\n        np.nan: 0, \n        'negative': 1, \n        'neutral': 2, \n        'positive': 3}) \\\n        .astype(np.uint8)\n\n    print('X.shape:', X.shape, 'y.shape:', y.shape, csv_path.name)\n    return X, y\n\nX_train, y_train = read_csv(train_fp)\nX_dev, y_dev = read_csv(dev_fp)\nX_test, y_test = read_csv(test_fp)",
   "execution_count": null,
   "outputs": [
    {
     "name": "stdout",
     "text": "X.shape: (2961,) y.shape: (2961, 12) train.csv\nX.shape: (1290,) y.shape: (1290, 12) dev.csv\nX.shape: (500,) y.shape: (500, 12) test.csv\n",
     "output_type": "stream"
    }
   ]
  },
  {
   "cell_type": "markdown",
   "source": "\n# EDA",
   "metadata": {
    "tags": [],
    "cell_id": "00003-b0c4c0b2-689b-4f0b-9bb7-f78acf400fba",
    "deepnote_cell_type": "markdown"
   }
  },
  {
   "cell_type": "code",
   "metadata": {
    "tags": [],
    "cell_id": "00005-65a897cf-2617-4630-b025-b22821ea9438",
    "deepnote_to_be_reexecuted": false,
    "source_hash": "f8214cc3",
    "execution_start": 1636288341908,
    "execution_millis": 2474,
    "deepnote_cell_type": "code"
   },
   "source": "import matplotlib as plt\nprint('Số nhãn từng lớp trong tập train')\ncount_aspects = (~~y_train).sum(axis=0).sort_values(ascending=False)\ncount_aspects.plot.bar()",
   "execution_count": null,
   "outputs": [
    {
     "name": "stdout",
     "text": "Số nhãn từng lớp trong tập train\n",
     "output_type": "stream"
    },
    {
     "output_type": "execute_result",
     "execution_count": 2,
     "data": {
      "text/plain": "<AxesSubplot:>"
     },
     "metadata": {}
    },
    {
     "data": {
      "text/plain": "<Figure size 432x288 with 1 Axes>",
      "image/png": "[encoded data removed]"
     },
     "metadata": {
      "needs_background": "light",
      "image/png": {
       "width": 381,
       "height": 397
      }
     },
     "output_type": "display_data"
    }
   ]
  },
  {
   "cell_type": "markdown",
   "source": "# Tiền xử lí dữ liệu",
   "metadata": {
    "tags": [],
    "cell_id": "00006-8a7653d4-a0fe-4a4d-87d9-2d9820f5f4b7",
    "deepnote_cell_type": "markdown"
   }
  },
  {
   "cell_type": "code",
   "metadata": {
    "tags": [],
    "cell_id": "00003-c74a2f8e-bc89-467a-85c2-abee6f93cd4f",
    "deepnote_to_be_reexecuted": false,
    "source_hash": "e9c1ba90",
    "execution_start": 1636288345626,
    "execution_millis": 1175,
    "deepnote_cell_type": "code"
   },
   "source": "import re\nimport emoji\nfrom sklearn.base import BaseEstimator, TransformerMixin\n\n\nclass Preprocessing(BaseEstimator, TransformerMixin):\n    def step1(self, X):\n        \"\"\"Thay 100k, 200d thành “giá tiền”. Thay #lozi, #blabla thành hag_tag\n        \"\"\"\n        pass\n\n    def step2(self, X):\n        \"\"\"Xóa kí tự đặc biệt\n        \"\"\"\n        pass\n\n    def step3(self, X):\n        \"\"\"Tách từ dính liền nhau (vd: \"tả dcVới giá\") hoặc icon dính với một từ\n        \"\"\"\n        emoji_regexp = emoji.get_emoji_regexp()\n        return [emoji_regexp.sub('', x) for x in X]\n\n    def step4(self, X):\n        \"\"\"Đổi những từ bị kéo dài thành từ đúng chính tả (ngooon -> ngon)\n        \"\"\"\n        pass\n\n    def step5(self, X):\n        \"\"\"đổi các từ phủ định sau: khong, ko, khg, k… thành không\n        \"\"\"\n        pass\n\n    def step6(self, X):\n        \"\"\"phân thành token và pos tagging sử dụng thư viện Pyvi\n        \"\"\"\n        pass\n\n    def step7(self, X):\n        \"\"\"Loại bỏ tên đồ ăn và thức uống\n        \"\"\"\n        pass\n\n    def fit(self, X, y=None):\n        return self\n\n    def transform(self, X):\n        return self.step3(X)",
   "execution_count": null,
   "outputs": []
  },
  {
   "cell_type": "markdown",
   "source": "# Models",
   "metadata": {
    "tags": [],
    "cell_id": "00008-3e35d1d6-b9cd-4dc2-a45e-ccf833534cd9",
    "deepnote_cell_type": "markdown"
   }
  },
  {
   "cell_type": "markdown",
   "source": "## Model 0 (Random Forest)",
   "metadata": {
    "tags": [],
    "cell_id": "00009-7356580d-3c96-4494-bf3f-f7569dae1e30",
    "deepnote_cell_type": "markdown"
   }
  },
  {
   "cell_type": "code",
   "metadata": {
    "tags": [],
    "cell_id": "00010-7ce90a23-0f45-4247-baed-e58098dd73c8",
    "deepnote_to_be_reexecuted": false,
    "source_hash": "aeeeb532",
    "execution_start": 1636288350249,
    "execution_millis": 25564,
    "deepnote_cell_type": "code"
   },
   "source": "from sklearn.pipeline import make_pipeline\nfrom sklearn.ensemble import RandomForestClassifier\nfrom sklearn.feature_extraction.text import TfidfVectorizer\n\n\nmodel0 = make_pipeline(\n    Preprocessing(),\n    TfidfVectorizer(),\n    RandomForestClassifier()\n)\n\nmodel0.fit(X_train, y_train)",
   "execution_count": null,
   "outputs": [
    {
     "output_type": "execute_result",
     "execution_count": 4,
     "data": {
      "text/plain": "Pipeline(steps=[('preprocessing', Preprocessing()),\n                ('tfidfvectorizer', TfidfVectorizer()),\n                ('randomforestclassifier', RandomForestClassifier())])"
     },
     "metadata": {}
    }
   ]
  },
  {
   "cell_type": "markdown",
   "source": "## Model 1",
   "metadata": {
    "tags": [],
    "cell_id": "00010-31812a67-39fc-4431-a254-b7afc28035ae",
    "deepnote_cell_type": "markdown"
   }
  },
  {
   "cell_type": "code",
   "metadata": {
    "tags": [],
    "cell_id": "00011-f9cc7b02-0d7c-4e53-b92c-8f7610b4a044",
    "deepnote_to_be_reexecuted": false,
    "source_hash": "1187d54e",
    "execution_start": 1636288494753,
    "execution_millis": 26598,
    "deepnote_cell_type": "code"
   },
   "source": "from sklearn.ensemble import ExtraTreesClassifier\n\n\nmodel1 = make_pipeline(\n    Preprocessing(),\n    TfidfVectorizer(),\n    ExtraTreesClassifier()\n)\n\nmodel1.fit(X_train, y_train)",
   "execution_count": null,
   "outputs": [
    {
     "output_type": "execute_result",
     "execution_count": 6,
     "data": {
      "text/plain": "Pipeline(steps=[('preprocessing', Preprocessing()),\n                ('tfidfvectorizer', TfidfVectorizer()),\n                ('extratreesclassifier', ExtraTreesClassifier())])"
     },
     "metadata": {}
    }
   ]
  },
  {
   "cell_type": "markdown",
   "source": "## Model 2",
   "metadata": {
    "tags": [],
    "cell_id": "00011-c50d77e8-ef6e-4d61-84d1-0193eec70fcd",
    "deepnote_cell_type": "markdown"
   },
   "outputs": [],
   "execution_count": null
  },
  {
   "cell_type": "code",
   "source": "!pip install -q https://gitlab.com/trungtv/vi_spacy/-/raw/master/vi_core_news_lg/dist/vi_core_news_lg-0.0.1.tar.gz",
   "metadata": {
    "tags": [],
    "cell_id": "00012-6adefe0b-57e8-4575-bc47-aa9c25d5904d",
    "deepnote_to_be_reexecuted": false,
    "source_hash": "67ed17fe",
    "execution_start": 1636607554486,
    "execution_millis": 86397,
    "deepnote_cell_type": "code"
   },
   "outputs": [
    {
     "name": "stdout",
     "text": "\u001b[33mWARNING: You are using pip version 21.2.4; however, version 21.3.1 is available.\r\nYou should consider upgrading via the '/root/venv/bin/python -m pip install --upgrade pip' command.\u001b[0m\r\n",
     "output_type": "stream"
    }
   ],
   "execution_count": null
  },
  {
   "cell_type": "code",
   "source": "import spacy",
   "metadata": {
    "tags": [],
    "cell_id": "00013-0f9db27f-e824-403a-b067-facefb1d5bf2",
    "deepnote_to_be_reexecuted": false,
    "source_hash": "215d8dfc",
    "execution_start": 1636607693222,
    "execution_millis": 9140,
    "deepnote_cell_type": "code"
   },
   "outputs": [],
   "execution_count": null
  },
  {
   "cell_type": "code",
   "source": "nlp = spacy.load('vi_core_news_md')",
   "metadata": {
    "tags": [],
    "cell_id": "00013-afdb611a-fd26-4213-bdf1-85a527fda8a5",
    "deepnote_to_be_reexecuted": false,
    "source_hash": "b7cbb9f2",
    "execution_start": 1636607702369,
    "execution_millis": 518,
    "deepnote_cell_type": "code"
   },
   "outputs": [
    {
     "output_type": "error",
     "ename": "OSError",
     "evalue": "[E050] Can't find model 'vi_core_news_md'. It doesn't seem to be a Python package or a valid path to a data directory.",
     "traceback": [
      "\u001b[0;31m---------------------------------------------------------------------------\u001b[0m",
      "\u001b[0;31mOSError\u001b[0m                                   Traceback (most recent call last)",
      "\u001b[0;32m<ipython-input-2-7c48be91fa22>\u001b[0m in \u001b[0;36m<module>\u001b[0;34m\u001b[0m\n\u001b[0;32m----> 1\u001b[0;31m \u001b[0mnlp\u001b[0m \u001b[0;34m=\u001b[0m \u001b[0mspacy\u001b[0m\u001b[0;34m.\u001b[0m\u001b[0mload\u001b[0m\u001b[0;34m(\u001b[0m\u001b[0;34m'vi_core_news_md'\u001b[0m\u001b[0;34m)\u001b[0m\u001b[0;34m\u001b[0m\u001b[0;34m\u001b[0m\u001b[0m\n\u001b[0m",
      "\u001b[0;32m~/venv/lib/python3.7/site-packages/spacy/__init__.py\u001b[0m in \u001b[0;36mload\u001b[0;34m(name, vocab, disable, exclude, config)\u001b[0m\n\u001b[1;32m     49\u001b[0m     \"\"\"\n\u001b[1;32m     50\u001b[0m     return util.load_model(\n\u001b[0;32m---> 51\u001b[0;31m         \u001b[0mname\u001b[0m\u001b[0;34m,\u001b[0m \u001b[0mvocab\u001b[0m\u001b[0;34m=\u001b[0m\u001b[0mvocab\u001b[0m\u001b[0;34m,\u001b[0m \u001b[0mdisable\u001b[0m\u001b[0;34m=\u001b[0m\u001b[0mdisable\u001b[0m\u001b[0;34m,\u001b[0m \u001b[0mexclude\u001b[0m\u001b[0;34m=\u001b[0m\u001b[0mexclude\u001b[0m\u001b[0;34m,\u001b[0m \u001b[0mconfig\u001b[0m\u001b[0;34m=\u001b[0m\u001b[0mconfig\u001b[0m\u001b[0;34m\u001b[0m\u001b[0;34m\u001b[0m\u001b[0m\n\u001b[0m\u001b[1;32m     52\u001b[0m     )\n\u001b[1;32m     53\u001b[0m \u001b[0;34m\u001b[0m\u001b[0m\n",
      "\u001b[0;32m~/venv/lib/python3.7/site-packages/spacy/util.py\u001b[0m in \u001b[0;36mload_model\u001b[0;34m(name, vocab, disable, exclude, config)\u001b[0m\n\u001b[1;32m    329\u001b[0m     \u001b[0;32mif\u001b[0m \u001b[0mname\u001b[0m \u001b[0;32min\u001b[0m \u001b[0mOLD_MODEL_SHORTCUTS\u001b[0m\u001b[0;34m:\u001b[0m\u001b[0;34m\u001b[0m\u001b[0;34m\u001b[0m\u001b[0m\n\u001b[1;32m    330\u001b[0m         \u001b[0;32mraise\u001b[0m \u001b[0mIOError\u001b[0m\u001b[0;34m(\u001b[0m\u001b[0mErrors\u001b[0m\u001b[0;34m.\u001b[0m\u001b[0mE941\u001b[0m\u001b[0;34m.\u001b[0m\u001b[0mformat\u001b[0m\u001b[0;34m(\u001b[0m\u001b[0mname\u001b[0m\u001b[0;34m=\u001b[0m\u001b[0mname\u001b[0m\u001b[0;34m,\u001b[0m \u001b[0mfull\u001b[0m\u001b[0;34m=\u001b[0m\u001b[0mOLD_MODEL_SHORTCUTS\u001b[0m\u001b[0;34m[\u001b[0m\u001b[0mname\u001b[0m\u001b[0;34m]\u001b[0m\u001b[0;34m)\u001b[0m\u001b[0;34m)\u001b[0m\u001b[0;34m\u001b[0m\u001b[0;34m\u001b[0m\u001b[0m\n\u001b[0;32m--> 331\u001b[0;31m     \u001b[0;32mraise\u001b[0m \u001b[0mIOError\u001b[0m\u001b[0;34m(\u001b[0m\u001b[0mErrors\u001b[0m\u001b[0;34m.\u001b[0m\u001b[0mE050\u001b[0m\u001b[0;34m.\u001b[0m\u001b[0mformat\u001b[0m\u001b[0;34m(\u001b[0m\u001b[0mname\u001b[0m\u001b[0;34m=\u001b[0m\u001b[0mname\u001b[0m\u001b[0;34m)\u001b[0m\u001b[0;34m)\u001b[0m\u001b[0;34m\u001b[0m\u001b[0;34m\u001b[0m\u001b[0m\n\u001b[0m\u001b[1;32m    332\u001b[0m \u001b[0;34m\u001b[0m\u001b[0m\n\u001b[1;32m    333\u001b[0m \u001b[0;34m\u001b[0m\u001b[0m\n",
      "\u001b[0;31mOSError\u001b[0m: [E050] Can't find model 'vi_core_news_md'. It doesn't seem to be a Python package or a valid path to a data directory."
     ]
    }
   ],
   "execution_count": null
  },
  {
   "cell_type": "code",
   "source": "import pyvi",
   "metadata": {
    "tags": [],
    "cell_id": "00014-6c0d4285-0ba3-446c-8907-afa98860fd75",
    "deepnote_to_be_reexecuted": false,
    "source_hash": "f14f61f3",
    "execution_start": 1636607403171,
    "execution_millis": 5,
    "deepnote_cell_type": "code"
   },
   "outputs": [],
   "execution_count": null
  },
  {
   "cell_type": "code",
   "source": "spacy.__version__",
   "metadata": {
    "tags": [],
    "cell_id": "00014-49112a17-668a-49c2-9008-d9898f46cd85",
    "deepnote_to_be_reexecuted": false,
    "source_hash": "93bc8daa",
    "execution_start": 1636607424114,
    "execution_millis": 9,
    "deepnote_cell_type": "code"
   },
   "outputs": [
    {
     "output_type": "execute_result",
     "execution_count": 5,
     "data": {
      "text/plain": "'3.1.3'"
     },
     "metadata": {}
    }
   ],
   "execution_count": null
  },
  {
   "cell_type": "markdown",
   "source": "# Evaluation",
   "metadata": {
    "tags": [],
    "cell_id": "00011-0d327c11-f739-49f4-b198-560e8b9d6e52",
    "deepnote_cell_type": "markdown"
   }
  },
  {
   "cell_type": "markdown",
   "source": "## Custom Evaluation Tool",
   "metadata": {
    "tags": [],
    "cell_id": "00010-eff12a6a-5a41-4f93-a126-304521a74a6b",
    "deepnote_cell_type": "markdown"
   }
  },
  {
   "cell_type": "code",
   "metadata": {
    "tags": [],
    "cell_id": "00012-b9bff05c-e4c5-4a22-92c9-26127c0e1dbe",
    "deepnote_to_be_reexecuted": false,
    "source_hash": "1509ca9f",
    "execution_start": 1636288670125,
    "execution_millis": 13,
    "deepnote_cell_type": "code"
   },
   "source": "from sklearn.metrics import f1_score\n\ndef multioutput_to_multilabel(y):\n    if isinstance(y, pd.DataFrame): \n        y = y.values\n    nrow = y.shape[0]\n    ncol = y.shape[1]\n    multilabel = np.zeros((nrow, 3 * ncol), dtype=bool)\n    for i in range(nrow):\n        for j in range(ncol):\n            if y[i, j] != 0:\n                pos = j * 3 + (y[i, j] - 1)\n                multilabel[i, pos] = True\n    return multilabel\n\n\ndef custom_f1_score(y_true, y_pred, average='micro', **kwargs):\n    y_true = multioutput_to_multilabel(y_true)\n    y_pred = multioutput_to_multilabel(y_pred)\n    return f1_score(y_true, y_pred, average=average, **kwargs)\n\n\ndef custom_evaluate(model, X, y_true):\n    y_pred = model.predict(X)\n    return custom_f1_score(y_true, y_pred)",
   "execution_count": null,
   "outputs": []
  },
  {
   "cell_type": "code",
   "metadata": {
    "tags": [],
    "cell_id": "00014-b15afbe4-48db-480b-841c-7b9cdc1c0a9d",
    "deepnote_to_be_reexecuted": false,
    "source_hash": "697626ef",
    "execution_start": 1636288670971,
    "execution_millis": 6268,
    "deepnote_cell_type": "code"
   },
   "source": "custom_evaluate(model0, X_dev, y_dev)",
   "execution_count": null,
   "outputs": [
    {
     "output_type": "execute_result",
     "execution_count": 13,
     "data": {
      "text/plain": "0.5808514218408212"
     },
     "metadata": {}
    }
   ]
  },
  {
   "cell_type": "code",
   "metadata": {
    "tags": [],
    "cell_id": "00015-547fbe10-404e-40e2-9b8d-750be3e92166",
    "deepnote_to_be_reexecuted": false,
    "source_hash": "32971ce5",
    "execution_start": 1636288677248,
    "execution_millis": 6767,
    "deepnote_cell_type": "code"
   },
   "source": "custom_evaluate(model1, X_dev, y_dev)",
   "execution_count": null,
   "outputs": [
    {
     "output_type": "execute_result",
     "execution_count": 14,
     "data": {
      "text/plain": "0.5775273224043715"
     },
     "metadata": {}
    }
   ]
  },
  {
   "cell_type": "markdown",
   "source": "## Official Evaluation Tool",
   "metadata": {
    "tags": [],
    "cell_id": "00012-e478f5bc-5382-462f-83c4-ad5794d91db2",
    "deepnote_to_be_reexecuted": false,
    "source_hash": "baafe620",
    "execution_start": 1636200934827,
    "execution_millis": 8,
    "deepnote_cell_type": "markdown"
   }
  },
  {
   "cell_type": "code",
   "metadata": {
    "tags": [],
    "cell_id": "00013-5d2c09b4-69b0-43fa-8f25-96be0e915970",
    "deepnote_to_be_reexecuted": false,
    "source_hash": "2185a5d1",
    "execution_start": 1636288684391,
    "execution_millis": 73,
    "deepnote_cell_type": "code"
   },
   "source": "import json\n\n\nsentiments = [None, 'negative', 'neutral', 'positive']\n\nwith open(data_dir/'aspects.json') as f:\n    aspects = json.load(f)\n\n\ndef label_decoder(encoded_label):\n    label = []\n    for ap_idx, stm_idx in enumerate(encoded_label):\n        if stm_idx != 0:\n            aspect = aspects[ap_idx]\n            sentiment = sentiments[stm_idx]\n            label.append(f'{{{aspect}, {sentiment}}}')\n\n    return ', '.join(label)\n\n\ndef save_result(X, y, save_path):\n    rows = []\n    for test_id, (review, encoded_label) in enumerate(zip(X, y), 1):\n        label = label_decoder(encoded_label)\n        rows.extend((f'#{test_id}', review, label, ''))\n\n    text = '\\n'.join(rows[:-1])\n    with open(save_path, mode='w', encoding='utf-8-sig') as output_file:\n        output_file.write(text)\n\n    \ndef evaluate(model, X, y_true_path, y_pred_path):\n    y = model.predict(X)\n    save_result(X, y, y_pred_path)\n    !java SAEvaluate.java {y_true_path} {y_pred_path}",
   "execution_count": null,
   "outputs": []
  },
  {
   "cell_type": "markdown",
   "source": "### Evaluate on dev",
   "metadata": {
    "tags": [],
    "cell_id": "00014-73adb552-5932-4494-aa81-57e9018cd738",
    "deepnote_cell_type": "markdown"
   }
  },
  {
   "cell_type": "code",
   "metadata": {
    "tags": [],
    "cell_id": "00014-d4511775-1ad8-436a-a04f-7c11969e4518",
    "deepnote_to_be_reexecuted": false,
    "source_hash": "6b47192d",
    "execution_start": 1636288954126,
    "execution_millis": 10726,
    "output_cleared": false,
    "deepnote_cell_type": "code"
   },
   "source": "evaluate(model0, X_dev, \"/work/y_dev.txt\", \"/work/y_pred_model0.txt\")",
   "execution_count": null,
   "outputs": [
    {
     "name": "stdout",
     "text": "Evaluation Result >> File:/work/y_pred_model0.txt<> [/work/y_dev.txt]\n                              \tasp#1\tasp#2\tasp#3\tasp#4\tasp#5\tasp#6\tasp#7\tasp#8\tasp#9\tasp#10\tasp#11\tasp#12\n                    Gold count\t724\t1160\t516\t231\t205\t228\t134\t117\t44\t10\t39\t35\n                  ANSWER count\t189\t1282\t844\t21\t34\t122\t1\t2\t1\t0\t2\t2\n\n        Correct ANSWER: aspect\t183\t1158\t462\t12\t32\t118\t1\t1\t1\t0\t2\t1\n             Precision: aspect\t0.9683\t0.9033\t0.5474\t0.5714\t0.9412\t0.9672\t1.0000\t0.5000\t1.0000\t0.0000\t1.0000\t0.5000\n                Recall: aspect\t0.2528\t0.9983\t0.8953\t0.0519\t0.1561\t0.5175\t0.0075\t0.0085\t0.0227\t0.0000\t0.0513\t0.0286\n              F1 score: aspect\t0.4009\t0.9484\t0.6794\t0.0952\t0.2678\t0.6743\t0.0148\t0.0168\t0.0444\t0.0000\t0.0976\t0.0541\n  Over All ANSWER: aspect:----\t0.7884\t0.5725\t0.6633\n\n  Correct ANSWER: aspect,value\t145\t1032\t402\t12\t28\t102\t1\t0\t1\t0\t2\t1\n      Precision: aspect, value\t0.7672\t0.8050\t0.4763\t0.5714\t0.8235\t0.8361\t1.0000\t0.0000\t1.0000\t0.0000\t1.0000\t0.5000\n         Recall: aspect, value\t0.2003\t0.8897\t0.7791\t0.0519\t0.1366\t0.4474\t0.0075\t0.0000\t0.0227\t0.0000\t0.0513\t0.0286\n       F1 score: aspect, value\t0.3176\t0.8452\t0.5912\t0.0952\t0.2343\t0.5829\t0.0148\t0.0000\t0.0444\t0.0000\t0.0976\t0.0541\n\nOver All ANSWER: aspect, value:----\t0.6904\t0.5013\t0.5809\n\n\n",
     "output_type": "stream"
    }
   ]
  },
  {
   "cell_type": "code",
   "metadata": {
    "tags": [],
    "cell_id": "00020-09be1094-d5fa-4b4d-a0b5-d0905683bc56",
    "deepnote_to_be_reexecuted": false,
    "source_hash": "6015e1b7",
    "execution_start": 1636288964905,
    "execution_millis": 10764,
    "deepnote_cell_type": "code"
   },
   "source": "evaluate(model1, X_dev, \"/work/y_dev.txt\", \"/work/y_pred_model1\")",
   "execution_count": null,
   "outputs": [
    {
     "name": "stdout",
     "text": "Evaluation Result >> File:/work/y_pred_model1<> [/work/y_dev.txt]\n                              \tasp#1\tasp#2\tasp#3\tasp#4\tasp#5\tasp#6\tasp#7\tasp#8\tasp#9\tasp#10\tasp#11\tasp#12\n                    Gold count\t724\t1160\t516\t231\t205\t228\t134\t117\t44\t10\t39\t35\n                  ANSWER count\t152\t1282\t824\t19\t36\t92\t1\t2\t1\t0\t2\t2\n\n        Correct ANSWER: aspect\t147\t1158\t460\t15\t34\t91\t1\t1\t1\t0\t2\t1\n             Precision: aspect\t0.9671\t0.9033\t0.5583\t0.7895\t0.9444\t0.9891\t1.0000\t0.5000\t1.0000\t0.0000\t1.0000\t0.5000\n                Recall: aspect\t0.2030\t0.9983\t0.8915\t0.0649\t0.1659\t0.3991\t0.0075\t0.0085\t0.0227\t0.0000\t0.0513\t0.0286\n              F1 score: aspect\t0.3356\t0.9484\t0.6866\t0.1200\t0.2822\t0.5688\t0.0148\t0.0168\t0.0444\t0.0000\t0.0976\t0.0541\n  Over All ANSWER: aspect:----\t0.7920\t0.5550\t0.6527\n\n  Correct ANSWER: aspect,value\t121\t1035\t399\t15\t30\t86\t1\t0\t1\t0\t2\t1\n      Precision: aspect, value\t0.7961\t0.8073\t0.4842\t0.7895\t0.8333\t0.9348\t1.0000\t0.0000\t1.0000\t0.0000\t1.0000\t0.5000\n         Recall: aspect, value\t0.1671\t0.8922\t0.7733\t0.0649\t0.1463\t0.3772\t0.0075\t0.0000\t0.0227\t0.0000\t0.0513\t0.0286\n       F1 score: aspect, value\t0.2763\t0.8477\t0.5955\t0.1200\t0.2490\t0.5375\t0.0148\t0.0000\t0.0444\t0.0000\t0.0976\t0.0541\n\nOver All ANSWER: aspect, value:----\t0.7008\t0.4911\t0.5775\n\n\n",
     "output_type": "stream"
    }
   ]
  },
  {
   "cell_type": "markdown",
   "source": "### Evaluate on test",
   "metadata": {
    "tags": [],
    "cell_id": "00016-6b19a07e-8e2a-4155-b0a8-1f24e0f31aac",
    "deepnote_to_be_reexecuted": false,
    "source_hash": "153eeadb",
    "execution_start": 1636200994481,
    "execution_millis": 7,
    "deepnote_cell_type": "markdown"
   }
  },
  {
   "cell_type": "markdown",
   "source": "# Code nháp gõ dưới đây",
   "metadata": {
    "tags": [],
    "cell_id": "00008-1e7ea5b2-16ef-4f31-952d-4d29611d5191",
    "deepnote_cell_type": "markdown"
   }
  },
  {
   "cell_type": "code",
   "metadata": {
    "tags": [],
    "cell_id": "00004-4e46ec5a-f4f9-4b93-99bf-3b998a514a1d",
    "deepnote_to_be_reexecuted": false,
    "source_hash": "c025358d",
    "execution_start": 1636097838200,
    "execution_millis": 8,
    "deepnote_cell_type": "code"
   },
   "source": "remove_emoji(['hôm nay trời đẹp 🙂', 'hôm nay mưa lớn 🌧'])",
   "execution_count": null,
   "outputs": [
    {
     "output_type": "execute_result",
     "execution_count": 26,
     "data": {
      "text/plain": "array(['hôm nay trời đẹp ', 'hôm nay mưa lớn '], dtype='<U17')"
     },
     "metadata": {}
    }
   ]
  },
  {
   "cell_type": "code",
   "metadata": {
    "tags": [],
    "cell_id": "00009-991f80a4-d704-439d-80f7-433266ee831d",
    "deepnote_to_be_reexecuted": false,
    "source_hash": "6b11f57e",
    "execution_start": 1636103238897,
    "execution_millis": 3,
    "deepnote_cell_type": "code"
   },
   "source": "import re\nimport numpy as np\ndef transform_units(texts):\n    \"\"\"List comprehension\"\"\"\n    return np.array([re.sub(r\"\\d+[$,d,k,₫]\",\"giá tiền\",text) for text in texts])\n        ",
   "execution_count": null,
   "outputs": []
  },
  {
   "cell_type": "code",
   "metadata": {
    "tags": [],
    "cell_id": "00011-f3eb02af-cec6-4b8c-a991-0e1af3d431e7",
    "deepnote_to_be_reexecuted": false,
    "source_hash": "6bc42137",
    "execution_start": 1636103252870,
    "execution_millis": 5,
    "deepnote_cell_type": "code"
   },
   "source": "# tmp123 = r'Cập Nhật Giá : 1/12/2015 🐸 - Phần 1 con + cháo => 35.000₫ - Phần 2 con + cháo => 70.000₫ - Phần 3 con + cháo => 90.000₫* Có \" Nước Sâm ( 5k ) , Nước ngọt ( tuỳ loại ) , Trà Đá ( 2k )🎀 Quán lề đường, sạch sẽ, nấu ếch tại chỗ cho khách xem. Nhưng phụ vụ hơi lâu, gọi tính tiền cũng lâu nữa 😞 🎀 Ăn được . Ngon !'\ntransform_units(['giá món ăn này mắc thế tới 200k lận',\n                 'bán 12.000 vnd',\n                 'mua 30.000.000vnd'\n                 tmp123])\n        ",
   "execution_count": null,
   "outputs": [
    {
     "output_type": "execute_result",
     "execution_count": 98,
     "data": {
      "text/plain": "array(['giá món ăn này mắc thế tới giá tiền lận',\n       'Cập Nhật Giá : 1/12/2015 🐸 - Phần 1 con + cháo => 35.giá tiền - Phần 2 con + cháo => 70.giá tiền - Phần 3 con + cháo => 90.giá tiền* Có \" Nước Sâm ( giá tiền ) , Nước ngọt ( tuỳ loại ) , Trà Đá ( giá tiền )🎀 Quán lề đường, sạch sẽ, nấu ếch tại chỗ cho khách xem. Nhưng phụ vụ hơi lâu, gọi tính tiền cũng lâu nữa 😞 🎀 Ăn được . Ngon !'],\n      dtype='<U332')"
     },
     "metadata": {}
    }
   ]
  },
  {
   "cell_type": "code",
   "metadata": {
    "tags": [],
    "cell_id": "00012-bba7157f-617b-49b2-ba3e-4943dba37ef2",
    "deepnote_to_be_reexecuted": false,
    "source_hash": "172228af",
    "execution_start": 1636104072274,
    "execution_millis": 0,
    "deepnote_cell_type": "code"
   },
   "source": "import re\nimport numpy as np\ndef transform_units_123(texts):\n    return np.array([re.sub(r\"[_@!#$&^*%<>?/=+`]\",'',text) for text in texts])",
   "execution_count": null,
   "outputs": []
  },
  {
   "cell_type": "code",
   "metadata": {
    "tags": [],
    "cell_id": "00014-7884bf4d-29e0-4b0c-a074-2d7be96d4040",
    "deepnote_to_be_reexecuted": false,
    "source_hash": "d979b504",
    "execution_start": 1636104075894,
    "execution_millis": 2,
    "deepnote_cell_type": "code"
   },
   "source": "transform_units_123(['@ hên quá đi=, hôm nay cô không khảo bài ^'])",
   "execution_count": null,
   "outputs": [
    {
     "output_type": "execute_result",
     "execution_count": 105,
     "data": {
      "text/plain": "array([' hên quá đi, hôm nay cô không khảo bài '], dtype='<U39')"
     },
     "metadata": {}
    }
   ]
  },
  {
   "cell_type": "code",
   "metadata": {
    "tags": [],
    "cell_id": "00017-632dec3f-d9f1-44ba-bf73-e7835fda4906",
    "deepnote_cell_type": "code"
   },
   "source": "",
   "execution_count": null,
   "outputs": []
  },
  {
   "cell_type": "markdown",
   "source": "<a style='text-decoration:none;line-height:16px;display:flex;color:#5B5B62;padding:10px;justify-content:end;' href='https://deepnote.com?utm_source=created-in-deepnote-cell&projectId=b5b5c153-f56a-4329-a053-06afe7378c69' target=\"_blank\">\n<img alt='Created in deepnote.com' style='display:inline;max-height:16px;margin:0px;margin-right:7.5px;' src='data:image/svg+xml;base64,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' > </img>\nCreated in <span style='font-weight:600;margin-left:4px;'>Deepnote</span></a>",
   "metadata": {
    "tags": [],
    "created_in_deepnote_cell": true,
    "deepnote_cell_type": "markdown"
   }
  }
 ],
 "nbformat": 4,
 "nbformat_minor": 2,
 "metadata": {
  "orig_nbformat": 2,
  "deepnote": {
   "is_reactive": false
  },
  "deepnote_notebook_id": "89096161-8db2-4c83-bd09-f2de34fe0e65",
  "deepnote_execution_queue": []
 }
}